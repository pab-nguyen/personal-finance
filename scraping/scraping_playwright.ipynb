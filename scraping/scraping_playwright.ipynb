{
 "cells": [
  {
   "cell_type": "code",
   "execution_count": 1,
   "metadata": {},
   "outputs": [
    {
     "ename": "AttributeError",
     "evalue": "'coroutine' object has no attribute 'chromium'",
     "output_type": "error",
     "traceback": [
      "\u001b[1;31m---------------------------------------------------------------------------\u001b[0m",
      "\u001b[1;31mAttributeError\u001b[0m                            Traceback (most recent call last)",
      "Cell \u001b[1;32mIn[1], line 5\u001b[0m\n\u001b[0;32m      2\u001b[0m \u001b[39mfrom\u001b[39;00m \u001b[39mplaywright\u001b[39;00m\u001b[39m.\u001b[39;00m\u001b[39masync_api\u001b[39;00m \u001b[39mimport\u001b[39;00m async_playwright\n\u001b[0;32m      4\u001b[0m playwright \u001b[39m=\u001b[39m async_playwright()\u001b[39m.\u001b[39mstart()\n\u001b[1;32m----> 5\u001b[0m browser \u001b[39m=\u001b[39m playwright\u001b[39m.\u001b[39;49mchromium\u001b[39m.\u001b[39mlaunch(headless\u001b[39m=\u001b[39m\u001b[39mFalse\u001b[39;00m)\n",
      "\u001b[1;31mAttributeError\u001b[0m: 'coroutine' object has no attribute 'chromium'"
     ]
    }
   ],
   "source": [
    "import asyncio\n",
    "from playwright.async_api import async_playwright\n",
    "\n",
    "playwright = async_playwright().start()\n",
    "browser = playwright.chromium.launch(headless=False)"
   ]
  },
  {
   "cell_type": "code",
   "execution_count": 40,
   "metadata": {},
   "outputs": [
    {
     "data": {
      "text/plain": [
       "\"r'c:/Users/Phan/Downloads/Github/personal-finance/data/empower_input'\""
      ]
     },
     "execution_count": 40,
     "metadata": {},
     "output_type": "execute_result"
    }
   ],
   "source": [
    "download = \"r'\" + os.path.dirname(os.getcwd()) + \"/data/empower_input'\"\n",
    "download = download.replace(\"\\\\\",\"/\")\n",
    "download"
   ]
  },
  {
   "cell_type": "code",
   "execution_count": 43,
   "metadata": {},
   "outputs": [],
   "source": [
    "# create user agent at random\n",
    "ua = UserAgent()\n",
    "userAgent = ua.random\n",
    "\n",
    "# add options\n",
    "opts = webdriver.ChromeOptions()\n",
    "# user_agent = 'Mozilla/5.0 (X11; Linux x86_64) AppleWebKit/537.36 (KHTML, like Gecko) Chrome/60.0.3112.50\n",
    "# Safari/537.36'\n",
    "opts.add_argument(\"--disable-notifications\")\n",
    "opts.add_argument(\"--user-data-dir=C:/Users/Phan/Downloads/Github/personal-finance/scraping/UserData/\")\n",
    "opts.add_argument('--profile-directory=Profile')\n",
    "opt.add_argument(\"download.default_directory=C:/Users/Phan/Downloads/Github/personal-finance/data/empower_input\")\n",
    "\n",
    "# prefs={\"download.default_directory\" : \"C:/Users/Phan/Downloads/Github/personal-finance/data/empower_input\"}\n",
    "# opts.add_experimental_option(\"prefs\", prefs)\n",
    "\n",
    "# opts.add_argument(\"--headless\")\n",
    "\n",
    "# open driver\n",
    "driver = webdriver.Chrome(service=Service(ChromeDriverManager().install()),options=opts)\n",
    "driver.get(\"https://home.personalcapital.com/page/login/goHome\")\n",
    "driver.implicitly_wait(10)\n"
   ]
  },
  {
   "cell_type": "code",
   "execution_count": 7,
   "metadata": {},
   "outputs": [],
   "source": [
    "driver.get(\"https://home.personalcapital.com/page/login/goHome\")\n",
    "\n",
    "#read json file for credentials\n",
    "f= open('credentials.json')\n",
    "data = json.load(f)\n",
    "username = data['username']\n",
    "password = data['password']\n",
    "\n",
    "try:  \n",
    "    input = driver.find_element(By.NAME,\"passwd\")\n",
    "    input.send_keys(password)\n",
    "    input.send_keys(Keys.RETURN)\n",
    "except:\n",
    "    pass\n",
    "\n"
   ]
  },
  {
   "cell_type": "code",
   "execution_count": 10,
   "metadata": {},
   "outputs": [],
   "source": [
    "driver.get(\"https://home.personalcapital.com/page/login/app#/all-transactions\")\n",
    "time.sleep(10)\n",
    "driver.find_element(By.XPATH,\"//button[@class='pc-btn pc-btn--tiny qa-export-csv-btn']\").click()\n",
    "\n"
   ]
  },
  {
   "cell_type": "code",
   "execution_count": 11,
   "metadata": {},
   "outputs": [],
   "source": [
    "driver.quit()"
   ]
  }
 ],
 "metadata": {
  "kernelspec": {
   "display_name": "Python 3",
   "language": "python",
   "name": "python3"
  },
  "language_info": {
   "codemirror_mode": {
    "name": "ipython",
    "version": 3
   },
   "file_extension": ".py",
   "mimetype": "text/x-python",
   "name": "python",
   "nbconvert_exporter": "python",
   "pygments_lexer": "ipython3",
   "version": "3.11.3"
  },
  "orig_nbformat": 4
 },
 "nbformat": 4,
 "nbformat_minor": 2
}
