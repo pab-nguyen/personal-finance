{
 "cells": [
  {
   "cell_type": "code",
   "execution_count": 5,
   "metadata": {},
   "outputs": [],
   "source": [
    "from selenium import webdriver\n",
    "from selenium.common.exceptions import StaleElementReferenceException\n",
    "from selenium.webdriver.chrome.options import Options\n",
    "from selenium.webdriver.common.keys import Keys\n",
    "from selenium.webdriver.common.by import By\n",
    "from selenium.webdriver.chrome.service import Service\n",
    "from webdriver_manager.chrome import ChromeDriverManager\n",
    "\n",
    "import time\n",
    "import json\n",
    "import os\n"
   ]
  },
  {
   "cell_type": "code",
   "execution_count": 6,
   "metadata": {},
   "outputs": [
    {
     "data": {
      "text/plain": [
       "\"r'c:/Users/Phan/Downloads/Github/personal-finance/data/empower_input'\""
      ]
     },
     "execution_count": 6,
     "metadata": {},
     "output_type": "execute_result"
    }
   ],
   "source": [
    "download = \"r'\" + os.path.dirname(os.getcwd()) + \"/data/empower_input'\"\n",
    "download = download.replace(\"\\\\\",\"/\")\n",
    "download"
   ]
  },
  {
   "cell_type": "code",
   "execution_count": 7,
   "metadata": {},
   "outputs": [],
   "source": [
    "# add options\n",
    "opts = webdriver.ChromeOptions()\n",
    "opts.add_argument(\"--user-data-dir=C:/Users/Phan/Downloads/Github/personal-finance/scraping/UserData/\")\n",
    "opts.add_experimental_option(\"prefs\", {\"download.default_directory\" : \"C:\\\\Users\\Phan\\Downloads\\Github\\personal-finance\\data\\empower_input\\\\\",\n",
    "\"savefile.default_directory\" : \"C:\\\\Users\\Phan\\Downloads\\Github\\personal-finance\\data\\empower_input\\\\\", \n",
    "\"download.prompt_for_download\": False,\n",
    "\"download.directory_upgrade\": True})\n",
    "\n",
    "\n",
    "# opts.add_argument(\"--headless\")\n",
    "\n",
    "# open driver\n",
    "driver = webdriver.Chrome(service=Service(executable_path=ChromeDriverManager().install()),options=opts)\n",
    "\n",
    "driver.get(\"https://home.personalcapital.com/page/login/goHome\")\n",
    "driver.implicitly_wait(10)\n"
   ]
  },
  {
   "cell_type": "code",
   "execution_count": 8,
   "metadata": {},
   "outputs": [
    {
     "data": {
      "text/plain": [
       "True"
      ]
     },
     "execution_count": 8,
     "metadata": {},
     "output_type": "execute_result"
    }
   ],
   "source": [
    "driver.get(\"https://home.personalcapital.com/page/login/goHome\")\n",
    "time.sleep(5)\n",
    "\n",
    "#read json file for credentials\n",
    "f= open('credentials.json')\n",
    "data = json.load(f)\n",
    "username = data['username']\n",
    "password = data['password']\n",
    "\n",
    "try:  \n",
    "    input = driver.find_element(By.NAME,\"passwd\")\n",
    "    input.send_keys(password)\n",
    "    input.send_keys(Keys.RETURN)\n",
    "except:\n",
    "    pass\n",
    "time.sleep(2)\n",
    "driver.get_screenshot_as_file(\"screenshot.png\")\n"
   ]
  },
  {
   "cell_type": "code",
   "execution_count": 9,
   "metadata": {},
   "outputs": [],
   "source": [
    "driver.get(\"https://home.personalcapital.com/page/login/app#/all-transactions\")\n",
    "time.sleep(10)\n",
    "driver.implicitly_wait(10)\n",
    "\n",
    "driver.find_element(By.XPATH,\"//button[@class='pc-btn pc-btn--tiny qa-export-csv-btn']\").click()\n",
    "time.sleep(5)\n"
   ]
  },
  {
   "cell_type": "code",
   "execution_count": 10,
   "metadata": {},
   "outputs": [],
   "source": [
    "driver.quit()"
   ]
  }
 ],
 "metadata": {
  "kernelspec": {
   "display_name": "Python 3",
   "language": "python",
   "name": "python3"
  },
  "language_info": {
   "codemirror_mode": {
    "name": "ipython",
    "version": 3
   },
   "file_extension": ".py",
   "mimetype": "text/x-python",
   "name": "python",
   "nbconvert_exporter": "python",
   "pygments_lexer": "ipython3",
   "version": "3.11.3"
  },
  "orig_nbformat": 4
 },
 "nbformat": 4,
 "nbformat_minor": 2
}
