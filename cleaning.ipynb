{
 "cells": [
  {
   "cell_type": "code",
   "execution_count": 6,
   "metadata": {},
   "outputs": [],
   "source": [
    "import os\n",
    "import glob\n",
    "import pandas as pd\n",
    "from pyspark.sql import SparkSession\n",
    "from pyspark.sql.functions import *\n",
    "from pyspark.sql.types import StringType,BooleanType,DateType,IntegerType,DoubleType\n",
    "\n",
    "spark = SparkSession.builder.appName(\"PF\").config(\"spark.sql.caseSensitive\", \"True\").getOrCreate()"
   ]
  },
  {
   "cell_type": "code",
   "execution_count": 7,
   "metadata": {},
   "outputs": [
    {
     "name": "stdout",
     "output_type": "stream",
     "text": [
      "root\n",
      " |-- ID: integer (nullable = true)\n",
      " |-- Account: string (nullable = true)\n",
      " |-- Item: string (nullable = true)\n",
      " |-- Amount: double (nullable = true)\n",
      " |-- Date: date (nullable = true)\n",
      " |-- Transaction Type: string (nullable = true)\n",
      " |-- Categories: string (nullable = true)\n",
      " |-- Categories 2: string (nullable = true)\n",
      " |-- Real Amount: double (nullable = true)\n",
      " |-- Note: string (nullable = true)\n",
      " |-- Subscriptions: boolean (nullable = true)\n",
      " |-- Return: boolean (nullable = true)\n",
      " |-- Account Type: string (nullable = true)\n",
      " |-- Owner: string (nullable = true)\n",
      "\n",
      "+----+--------------------+--------------------+------+----------+----------------+-------------+------------+-----------+-------------------+-------------+------+------------+-----+\n",
      "|  ID|             Account|                Item|Amount|      Date|Transaction Type|   Categories|Categories 2|Real Amount|               Note|Subscriptions|Return|Account Type|Owner|\n",
      "+----+--------------------+--------------------+------+----------+----------------+-------------+------------+-----------+-------------------+-------------+------+------------+-----+\n",
      "|2725| Robinhoodinvestment| Dividend From Apple|  0.19|2023-05-18|         Income3|   Investment|    Dividend|       0.19|                   |        false| false|  Investment|Joint|\n",
      "|2724| Chime Checking 4288|Emd Millipore Co,...| 250.0|2023-05-18|          Income|       Income|         Job|      250.0|                   |        false| false|       Debit| Ritu|\n",
      "|2723|Adv Plus Banking ...|            Jpmorgan|322.17|2023-05-18|        Expense4|         Bill| Credit Card|    -322.17|                   |        false| false|       Debit|Joint|\n",
      "|2722|Amazon Prime Cred...|              Amazon| 10.59|2023-05-17|         Expense|     Shopping|   Household|     -10.59|           scissors|        false| false|      Credit| Ritu|\n",
      "|2721| Discover It PA 1762|               Apple|  0.99|2023-05-17|         Expense|        Other|   Utilities|      -0.99|                   |        false| false|      Credit| Ritu|\n",
      "|2720|Amazon Prime Cred...|Automatic Payment...|322.17|2023-05-17|         Income4|         Bill| Credit Card|     322.17|                   |        false| false|      Credit| Ritu|\n",
      "|2719|Discover It Ritu ...|            Gulf Oil| 40.23|2023-05-17|         Expense|          Car|         Gas|     -40.23|                   |        false| false|      Credit| Ritu|\n",
      "|2718|Discover It Ritu ...|             Tj Maxx| 217.2|2023-05-17|         Expense|     Shopping|     Clothes|     -217.2|                   |        false| false|      Credit| Ritu|\n",
      "|2717|Amazon Prime Cred...|  Amazon Marketplace| 29.79|2023-05-16|         Expense|        Other|       Event|     -29.79|     Decoration DIY|        false| false|      Credit| Ritu|\n",
      "|2716|Adv Plus Banking ...|       Discover Bank|  50.0|2023-05-16|        Expense4|         Bill| Credit Card|      -50.0|                   |        false| false|       Debit|Joint|\n",
      "|2715|Checking BoA Ritu...|              Klarna|   8.4|2023-05-16|         Expense|     Shopping|        Misc|       -8.4|                   |        false| false|       Debit| Ritu|\n",
      "|2714|Checking BoA Ritu...|Purchase Refund 0...| 60.26|2023-05-15|          Income|        Other|       Event|      60.26|                   |        false|  true|       Debit| Ritu|\n",
      "|2713|Checking BoA Ritu...|               Venmo|  43.0|2023-05-15|          Income|       Dining|        Food|       43.0|                   |        false| false|       Debit| Ritu|\n",
      "|2712|Checking BoA Ritu...|      Dunkin' Donuts|  10.0|2023-05-15|         Expense|       Dining|        Food|      -10.0|                   |        false| false|       Debit| Ritu|\n",
      "|2711|Checking BoA Ritu...|Purchase 0512 Dic...|120.52|2023-05-15|         Expense|        Other|       Event|    -120.52|                   |        false|  true|       Debit| Ritu|\n",
      "|2710|Checking BoA Ritu...|Purchase 0513 Ati...| 66.75|2023-05-15|         Expense|Entertainment|      Movies|     -66.75|                   |        false| false|       Debit| Ritu|\n",
      "|2709|Checking BoA Ritu...|              Klarna|320.83|2023-05-15|         Expense|     Shopping|     Clothes|    -320.83|                   |        false| false|       Debit| Ritu|\n",
      "|2708|Checking BoA Ritu...|Purchase 0514 Ati...| 14.25|2023-05-15|         Expense|Entertainment|      Movies|     -14.25|                   |        false| false|       Debit| Ritu|\n",
      "|2707|Adv Plus Banking ...|           Town News|  2.49|2023-05-15|         Expense|       Dining|      Drinks|      -2.49|                   |        false| false|       Debit|Joint|\n",
      "|2706|Adv Plus Banking ...|              Paypal| 90.89|2023-05-15|         Expense|       People|       Gifts|     -90.89|Mothers Day flowers|        false| false|       Debit|Joint|\n",
      "+----+--------------------+--------------------+------+----------+----------------+-------------+------------+-----------+-------------------+-------------+------+------------+-----+\n",
      "only showing top 20 rows\n",
      "\n"
     ]
    }
   ],
   "source": [
    "#read inputs \n",
    "acc_meta = spark.read.options(inferSchema='True',header='True').csv('./data/other_input/account_metadata.csv')\n",
    "\n",
    "\n",
    "#read master ledger file\n",
    "df = spark.createDataFrame(pd.read_excel('./data/other_input/Master Ledger.xlsx',sheet_name=\"Master Ledger\"))\n",
    "df = df.withColumn(\"ID\",col(\"ID\").cast(IntegerType()))\\\n",
    "        .withColumn(\"Amount\",col(\"Amount\").cast(DoubleType()))\\\n",
    "        .withColumn(\"Subscriptions\",col(\"Subscriptions\").cast(BooleanType()))\\\n",
    "        .withColumn(\"Return\",col(\"Return\").cast(BooleanType()))\\\n",
    "        .withColumn(\"Real Amount\",col(\"Real Amount\").cast(DoubleType()))\n",
    "\n",
    "df = df.withColumn(\"Date\",to_date(col(\"Date\"),\"MM/dd/yyyy\"))\n",
    "df.printSchema()\n",
    "df = df.dropna(how=\"all\",subset= [\"ID\"])\n",
    "df = df.replace('NaN',\"\")\n",
    "df.orderBy(\"ID\", ascending=False).show()"
   ]
  },
  {
   "cell_type": "code",
   "execution_count": 8,
   "metadata": {},
   "outputs": [
    {
     "name": "stdout",
     "output_type": "stream",
     "text": [
      "root\n",
      " |-- Date: date (nullable = true)\n",
      " |-- Account: string (nullable = true)\n",
      " |-- Amount: double (nullable = true)\n",
      " |-- ID: integer (nullable = false)\n",
      " |-- Item: string (nullable = true)\n",
      " |-- Real Amount: double (nullable = true)\n",
      " |-- Account Type: void (nullable = true)\n",
      " |-- Owner: void (nullable = true)\n",
      " |-- Transaction Type: string (nullable = false)\n",
      " |-- Subscriptions: boolean (nullable = false)\n",
      " |-- Return: boolean (nullable = false)\n",
      "\n",
      "+----------+--------------------+------+---+--------------------+-----------+------------+-----+----------------+-------------+------+\n",
      "|      Date|             Account|Amount| ID|                Item|Real Amount|Account Type|Owner|Transaction Type|Subscriptions|Return|\n",
      "+----------+--------------------+------+---+--------------------+-----------+------------+-----+----------------+-------------+------+\n",
      "|2023-05-20|Capital One Quick...| 41.17|  1|         Dollar Tree|     -41.17|        null| null|         Expense|        false| false|\n",
      "|2023-05-19| Robinhoodinvestment|  35.0|  1|Penn $26 Call 6/2...|      -35.0|        null| null|         Expense|        false| false|\n",
      "|2023-05-19| Discover It PA 1762| 58.89|  1|Directpay Full Ba...|      58.89|        null| null|          Income|        false| false|\n",
      "|2023-05-19|Checking BoA PA 7462| 250.0|  1|Emd Millipore Co ...|      250.0|        null| null|          Income|        false| false|\n",
      "|2023-05-19|Checking BoA Ritu...| 100.0|  1|             Fanduel|     -100.0|        null| null|         Expense|        false| false|\n",
      "|2023-05-19|Checking BoA Ritu...| 16.84|  1|              Klarna|     -16.84|        null| null|         Expense|        false| false|\n",
      "|2023-05-19|Checking BoA Ritu...| 26.54|  1|          Aliexpress|     -26.54|        null| null|         Expense|        false| false|\n",
      "|2023-05-19|Adv Plus Banking ...|  4.76|  1|      The Home Depot|      -4.76|        null| null|         Expense|        false| false|\n",
      "|2023-05-19|Checking BoA Ritu...| 12.31|  1|              Klarna|     -12.31|        null| null|         Expense|        false| false|\n",
      "|2023-05-19|Checking BoA Ritu...| 30.96|  1|Yifang Taiwan Fru...|     -30.96|        null| null|         Expense|        false| false|\n",
      "|2023-05-19|Adv Plus Banking ...| 18.14|  1|      The Home Depot|     -18.14|        null| null|         Expense|        false| false|\n",
      "|2023-05-19|Adv Plus Banking ...| 24.99|  1|             Tj Maxx|     -24.99|        null| null|         Expense|        false| false|\n",
      "|2023-05-19|Checking BoA Ritu...| 450.0|  1|               Venmo|      450.0|        null| null|          Income|        false| false|\n",
      "|2023-05-19|Adv Plus Banking ...| 17.27|  1|         Dollar Tree|     -17.27|        null| null|         Expense|        false| false|\n",
      "|2023-05-19|Adv Plus Banking ...|  1.95|  1|          Parkmobile|      -1.95|        null| null|         Expense|        false| false|\n",
      "|2023-05-19|Adv Plus Banking ...| 31.83|  1|         Stop & Shop|     -31.83|        null| null|         Expense|        false| false|\n",
      "|2023-05-19|Adv Plus Banking ...|126.44|  1|      The Home Depot|    -126.44|        null| null|         Expense|        false| false|\n",
      "|2023-05-19|Adv Plus Banking ...|2389.9|  1|Emd Millipore Co ...|     2389.9|        null| null|          Income|        false| false|\n",
      "|2023-05-19|401(k) Savings An...| 48.14|  1|Vanguard Target X...|      48.14|        null| null|          Income|        false| false|\n",
      "|2023-05-19|401(k) Savings An...| 96.28|  1|Trp Us Mdcp Gr Tr...|      96.28|        null| null|          Income|        false| false|\n",
      "+----------+--------------------+------+---+--------------------+-----------+------------+-----+----------------+-------------+------+\n",
      "only showing top 20 rows\n",
      "\n"
     ]
    }
   ],
   "source": [
    "#read all csv files exported from Empower\n",
    "path = glob.glob('./data/empower_input/*.csv')\n",
    "df2 = spark.read.options(inferSchema='True',header='True').csv(path)\n",
    "\n",
    "\n",
    "#add more columns to df2\n",
    "df2 = df2.withColumn(\"ID\",lit(1))\\\n",
    ".withColumn(\"Item\",col(\"Description\")).drop(\"Description\")\\\n",
    ".withColumn(\"Real Amount\",col(\"Amount\"))\\\n",
    ".withColumn(\"Amount\",abs(col(\"Amount\")))\\\n",
    ".withColumn(\"Account Type\",lit(None))\\\n",
    ".withColumn(\"Owner\",lit(None))\\\n",
    ".withColumn(\"Transaction Type\",when(col(\"Real Amount\") <0, \"Expense\").otherwise(\"Income\"))\\\n",
    ".drop(\"Category\")\\\n",
    ".withColumn(\"Owner\",lit(None))\\\n",
    ".withColumn(\"Subscriptions\",lit(False))\\\n",
    ".withColumn(\"Return\",lit(False))\\\n",
    ".drop(\"Tags\")\n",
    "\n",
    "df2.printSchema()\n",
    "\n",
    "df2.show()"
   ]
  },
  {
   "cell_type": "code",
   "execution_count": 12,
   "metadata": {},
   "outputs": [
    {
     "name": "stdout",
     "output_type": "stream",
     "text": [
      "+--------------------+--------------------+------+----------+----------------+----------+------------+-----------+----+-------------+------+------------+-----+\n",
      "|             Account|                Item|Amount|      Date|Transaction Type|Categories|Categories 2|Real Amount|Note|Subscriptions|Return|Account Type|Owner|\n",
      "+--------------------+--------------------+------+----------+----------------+----------+------------+-----------+----+-------------+------+------------+-----+\n",
      "|Capital One Quick...|         Dollar Tree| 41.17|2023-05-20|         Expense|      null|        null|     -41.17|null|        false| false|      Credit|   PA|\n",
      "|Adv Plus Banking ...|      The Home Depot|126.44|2023-05-19|         Expense|      null|        null|    -126.44|null|        false| false|       Debit|Joint|\n",
      "|Checking BoA Ritu...|             Fanduel| 100.0|2023-05-19|         Expense|      null|        null|     -100.0|null|        false| false|       Debit| Ritu|\n",
      "| Robinhoodinvestment|Penn $26 Call 6/2...|  35.0|2023-05-19|         Expense|      null|        null|      -35.0|null|        false| false|  Investment|Joint|\n",
      "|Adv Plus Banking ...|         Stop & Shop| 31.83|2023-05-19|         Expense|      null|        null|     -31.83|null|        false| false|       Debit|Joint|\n",
      "|Checking BoA Ritu...|Yifang Taiwan Fru...| 30.96|2023-05-19|         Expense|      null|        null|     -30.96|null|        false| false|       Debit| Ritu|\n",
      "|Checking BoA Ritu...|          Aliexpress| 26.54|2023-05-19|         Expense|      null|        null|     -26.54|null|        false| false|       Debit| Ritu|\n",
      "|Adv Plus Banking ...|             Tj Maxx| 24.99|2023-05-19|         Expense|      null|        null|     -24.99|null|        false| false|       Debit|Joint|\n",
      "|Adv Plus Banking ...|      The Home Depot| 18.14|2023-05-19|         Expense|      null|        null|     -18.14|null|        false| false|       Debit|Joint|\n",
      "|Adv Plus Banking ...|         Dollar Tree| 17.27|2023-05-19|         Expense|      null|        null|     -17.27|null|        false| false|       Debit|Joint|\n",
      "|Checking BoA Ritu...|              Klarna| 16.84|2023-05-19|         Expense|      null|        null|     -16.84|null|        false| false|       Debit| Ritu|\n",
      "|Checking BoA Ritu...|              Klarna| 12.31|2023-05-19|         Expense|      null|        null|     -12.31|null|        false| false|       Debit| Ritu|\n",
      "|Adv Plus Banking ...|      The Home Depot|  4.76|2023-05-19|         Expense|      null|        null|      -4.76|null|        false| false|       Debit|Joint|\n",
      "|Adv Plus Banking ...|          Parkmobile|  1.95|2023-05-19|         Expense|      null|        null|      -1.95|null|        false| false|       Debit|Joint|\n",
      "| Robinhoodinvestment|    Apple Market Buy|  0.19|2023-05-19|         Expense|      null|        null|      -0.19|null|        false| false|  Investment|Joint|\n",
      "|401(k) Savings An...|Fid Extd Mkt Idx ...| 48.14|2023-05-19|          Income|      null|        null|      48.14|null|        false| false|  Investment|   PA|\n",
      "|401(k) Savings An...|Vanguard Target X...| 48.14|2023-05-19|          Income|      null|        null|      48.14|null|        false| false|  Investment|   PA|\n",
      "| Discover It PA 1762|Directpay Full Ba...| 58.89|2023-05-19|          Income|      null|        null|      58.89|null|        false| false|      Credit| Ritu|\n",
      "|401(k) Savings An...|Trp Us Mdcp Gr Tr...| 96.28|2023-05-19|          Income|      null|        null|      96.28|null|        false| false|  Investment|   PA|\n",
      "|401(k) Savings An...|Fid Contrafund Po...|120.34|2023-05-19|          Income|      null|        null|     120.34|null|        false| false|  Investment|   PA|\n",
      "+--------------------+--------------------+------+----------+----------------+----------+------------+-----------+----+-------------+------+------------+-----+\n",
      "only showing top 20 rows\n",
      "\n"
     ]
    }
   ],
   "source": [
    "# union master ledger with empower, then \n",
    "max_date = df.select(max(\"Date\")).first()[0]\n",
    "df3 = df.unionByName(df2.filter(col(\"Date\")> max_date), allowMissingColumns=True)\n",
    "df3 = df3.drop(\"ID\",\"Account Type\",\"Owner\").join(acc_meta, on = 'Account').dropDuplicates(['Date','Account','Item','Real Amount','Note']).orderBy(\"Date\")\n",
    "df3.orderBy(\"Date\", ascending=False).show()"
   ]
  },
  {
   "cell_type": "code",
   "execution_count": 13,
   "metadata": {},
   "outputs": [],
   "source": [
    "df3.toPandas().to_csv(\"./data/output/out.csv\", index_label=\"ID\")"
   ]
  }
 ],
 "metadata": {
  "kernelspec": {
   "display_name": "Python 3",
   "language": "python",
   "name": "python3"
  },
  "language_info": {
   "codemirror_mode": {
    "name": "ipython",
    "version": 3
   },
   "file_extension": ".py",
   "mimetype": "text/x-python",
   "name": "python",
   "nbconvert_exporter": "python",
   "pygments_lexer": "ipython3",
   "version": "3.11.3"
  },
  "orig_nbformat": 4
 },
 "nbformat": 4,
 "nbformat_minor": 2
}
