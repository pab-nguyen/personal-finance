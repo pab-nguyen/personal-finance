{
 "cells": [
  {
   "cell_type": "code",
   "execution_count": 157,
   "metadata": {},
   "outputs": [],
   "source": [
    "import os\n",
    "import glob\n",
    "\n",
    "from pyspark.sql import SparkSession\n",
    "from pyspark.sql.functions import *\n",
    "from pyspark.sql.types import StringType,BooleanType,DateType,IntegerType,DoubleType\n",
    "\n",
    "spark = SparkSession.builder.appName(\"PF\").config(\"spark.sql.caseSensitive\", \"True\").getOrCreate()"
   ]
  },
  {
   "cell_type": "code",
   "execution_count": 158,
   "metadata": {},
   "outputs": [
    {
     "name": "stdout",
     "output_type": "stream",
     "text": [
      "root\n",
      " |-- ID: integer (nullable = true)\n",
      " |-- Item: string (nullable = true)\n",
      " |-- Amount: double (nullable = true)\n",
      " |-- Date: date (nullable = true)\n",
      " |-- Account: string (nullable = true)\n",
      " |-- Account Type: string (nullable = true)\n",
      " |-- Owner: string (nullable = true)\n",
      " |-- Transaction Type: string (nullable = true)\n",
      " |-- Categories: string (nullable = true)\n",
      " |-- Categories 2: string (nullable = true)\n",
      " |-- Real Amount: double (nullable = true)\n",
      " |-- Note: string (nullable = true)\n",
      " |-- Subscriptions: boolean (nullable = true)\n",
      " |-- Return: boolean (nullable = true)\n",
      "\n",
      "+----+--------------+-------+----------+--------------------+------------+-----+----------------+-------------+------------+-----------+--------------------+-------------+------+\n",
      "|  ID|          Item| Amount|      Date|             Account|Account Type|Owner|Transaction Type|   Categories|Categories 2|Real Amount|                Note|Subscriptions|Return|\n",
      "+----+--------------+-------+----------+--------------------+------------+-----+----------------+-------------+------------+-----------+--------------------+-------------+------+\n",
      "|1898| Reimbursement|   13.2|2022-12-30|Adv Plus Banking ...|      Credit|   PA|          Income|       Travel|        Food|       13.2|                null|        false| false|\n",
      "|1897|        Income|2000.62|2022-12-30|Adv Plus Banking ...|      Credit|   PA|          Income|       Income|         Job|    2000.62|                null|        false| false|\n",
      "|1896|     Starbucks|   15.0|2022-12-30|   Chase FFU PA 7013|       Debit|   PA|         Expense|       Dining|      Drinks|      -15.0|                null|        false| false|\n",
      "|1895|        Income|  250.0|2022-12-30|Checking BoA PA 7462|       Debit|Joint|          Income|       Income|         Job|      250.0|                null|        false| false|\n",
      "|1895|   Transaction| 135.13|2022-12-30|Health Savings Ac...|       Debit|   PA|         Income2|        Other|       Other|     135.13|                null|        false| false|\n",
      "|1894|        TJMaxx|    1.6|2022-12-28|Adv Plus Banking ...|       Debit|Joint|         Expense|     Shopping|   Household|       -1.6|                null|        false| false|\n",
      "|1894|   Transaction| 190.55|2022-12-30|Roth Ira - Ending...|       Debit|   PA|         Income2|        Other|       Other|     190.55|                null|        false| false|\n",
      "|1893|           Gas|  37.79|2022-12-28|Adv Plus Banking ...|      Credit|   PA|         Expense|          Car|         Gas|     -37.79|        Exxon Mobile|        false| false|\n",
      "|1893|   Transaction| 3974.1|2022-12-30| Robinhoodinvestment|       Debit|   PA|         Income2|        Other|       Other|     3974.1|                null|        false| false|\n",
      "|1892|       PC Game|  31.24|2022-12-28|Adv Plus Banking ...|       Debit|Joint|         Expense|Entertainment|        Game|     -31.24|Pathfinder: Wrath...|        false| false|\n",
      "|1892|   Transaction| 525.99|2022-12-30|Checking BoA Ritu...|       Debit| Ritu|         Income2|        Other|       Other|     525.99|                null|        false| false|\n",
      "|1891|           Gas|  42.19|2022-12-28|Costco Anywhere b...|      Credit|   PA|         Expense|          Car|         Gas|     -42.19|         Stop & Shop|        false| false|\n",
      "|1891|   Transaction|1006.32|2022-12-30|Checking BoA PA 7462|       Debit|   PA|         Income2|        Other|       Other|    1006.32|                null|        false| false|\n",
      "|1890|        TJMaxx|  41.45|2022-12-27|Adv Plus Banking ...|       Debit|Joint|         Expense|     Shopping|   Household|     -41.45|                null|        false| false|\n",
      "|1890|   Transaction| 7869.7|2022-12-30|401(k) Savings An...|       Debit|   PA|         Income2|        Other|       Other|     7869.7|                null|        false| false|\n",
      "|1889|          IKEA|  43.14|2022-12-27|Adv Plus Banking ...|       Debit|Joint|         Expense|     Shopping|   Household|     -43.14|                null|        false| false|\n",
      "|1888|  Registration|   60.0|2022-12-27|Adv Plus Banking ...|       Debit|Joint|         Expense|          Car|       Legal|      -60.0|                null|        false| false|\n",
      "|1887|           CVS|   4.66|2022-12-27|Adv Plus Banking ...|       Debit|Joint|         Expense|       Health|    Medicine|      -4.66|                null|        false| false|\n",
      "|1886|   Stop & Shop|  55.15|2022-12-27|Adv Plus Banking ...|       Debit|Joint|         Expense|    Groceries|   Groceries|     -55.15|                null|        false| false|\n",
      "|1885|Sephora Garden|   32.1|2022-12-27|Adv Plus Banking ...|      Credit|   PA|         Expense|       People|       Gifts|      -32.1|                null|        false| false|\n",
      "+----+--------------+-------+----------+--------------------+------------+-----+----------------+-------------+------------+-----------+--------------------+-------------+------+\n",
      "only showing top 20 rows\n",
      "\n"
     ]
    }
   ],
   "source": [
    "#read inputs \n",
    "acc_meta = spark.read.options(inferSchema='True',header='True').csv('./data/input/account_metadata.csv')\n",
    "\n",
    "\n",
    "#read master ledger file\n",
    "path = glob.glob('./data/input/Master Ledger.xlsx - Master_Ledger.csv')\n",
    "df = spark.read.options(inferSchema='True',header='True').csv(path)\n",
    "df = df.withColumn(\"ID\",col(\"ID\").cast(IntegerType()))\\\n",
    "        .withColumn(\"Amount\",col(\"Amount\").cast(DoubleType()))\\\n",
    "        .withColumn(\"Subscriptions\",col(\"Subscriptions\").cast(BooleanType()))\\\n",
    "        .withColumn(\"Return\",col(\"Return\").cast(BooleanType()))\\\n",
    "        .withColumn(\"Real Amount\",col(\"Real Amount\").cast(DoubleType()))\n",
    "\n",
    "df = df.withColumn(\"Date\",to_date(col(\"Date\"),\"MM/dd/yyyy\"))\n",
    "df.printSchema()\n",
    "df = df.dropna(how=\"all\",subset= [\"ID\"])\n",
    "df.orderBy(\"ID\", ascending=False).show()"
   ]
  },
  {
   "cell_type": "code",
   "execution_count": 159,
   "metadata": {},
   "outputs": [
    {
     "name": "stdout",
     "output_type": "stream",
     "text": [
      "root\n",
      " |-- Date: date (nullable = true)\n",
      " |-- Account: string (nullable = true)\n",
      " |-- Amount: double (nullable = true)\n",
      " |-- ID: integer (nullable = false)\n",
      " |-- Item: string (nullable = true)\n",
      " |-- Real Amount: double (nullable = true)\n",
      " |-- Account Type: void (nullable = true)\n",
      " |-- Owner: void (nullable = true)\n",
      " |-- Transaction Type: string (nullable = false)\n",
      " |-- Categories: void (nullable = true)\n",
      " |-- Categories 2: string (nullable = true)\n",
      " |-- Subscriptions: boolean (nullable = false)\n",
      " |-- Return: boolean (nullable = false)\n",
      "\n",
      "+----------+--------------------+------+---+--------------------+-----------+------------+-----+----------------+----------+--------------+-------------+------+\n",
      "|      Date|             Account|Amount| ID|                Item|Real Amount|Account Type|Owner|Transaction Type|Categories|  Categories 2|Subscriptions|Return|\n",
      "+----------+--------------------+------+---+--------------------+-----------+------------+-----+----------------+----------+--------------+-------------+------+\n",
      "|2023-01-06|Adv Plus Banking ...| 500.0|  1|     Bank Of America|     -500.0|        null| null|         Expense|      null|      ATM/Cash|        false| false|\n",
      "|2023-04-03|Checking BoA PA 7462| 800.0|  1|     Bank Of America|     -800.0|        null| null|         Expense|      null|      ATM/Cash|        false| false|\n",
      "|2023-04-24|Adv Plus Banking ...| 150.0|  1|     Bank Of America|     -150.0|        null| null|         Expense|      null|      ATM/Cash|        false| false|\n",
      "|2023-05-01|Adv Plus Banking ...| 800.0|  1|     Bank Of America|     -800.0|        null| null|         Expense|      null|      ATM/Cash|        false| false|\n",
      "|2023-01-09|Adv Plus Banking ...|  4.38|  1|                 Aaa|      -4.38|        null| null|         Expense|      null|    Automotive|        false| false|\n",
      "|2023-02-09|Adv Plus Banking ...|  4.38|  1|                 Aaa|      -4.38|        null| null|         Expense|      null|    Automotive|        false| false|\n",
      "|2023-03-09|Adv Plus Banking ...|  4.38|  1|                 Aaa|      -4.38|        null| null|         Expense|      null|    Automotive|        false| false|\n",
      "|2023-03-12|   Chase FFU PA 7013| 48.05|  1|    Madison Tpke (e)|     -48.05|        null| null|         Expense|      null|    Automotive|        false| false|\n",
      "|2023-04-10|Adv Plus Banking ...|  4.38|  1|                 Aaa|      -4.38|        null| null|         Expense|      null|    Automotive|        false| false|\n",
      "|2023-05-02|Adv Plus Banking ...|  60.0|  1| Mansfield Auto Care|      -60.0|        null| null|         Expense|      null|    Automotive|        false| false|\n",
      "|2023-05-03|Adv Plus Banking ...| 51.82|  1| Mansfield Auto Care|     -51.82|        null| null|         Expense|      null|    Automotive|        false| false|\n",
      "|2023-05-09|Adv Plus Banking ...|  4.38|  1|                 Aaa|      -4.38|        null| null|         Expense|      null|    Automotive|        false| false|\n",
      "|2023-01-04|Adv Plus Banking ...| 62.08|  1|                Zara|     -62.08|        null| null|         Expense|      null|Clothing/Shoes|        false| false|\n",
      "|2023-01-06|Checking BoA Ritu...|  41.9|  1|             Tj Maxx|      -41.9|        null| null|         Expense|      null|Clothing/Shoes|        false| false|\n",
      "|2023-01-08|Jetblue Barclays ...| 13.99|  1|                 H&m|     -13.99|        null| null|         Expense|      null|Clothing/Shoes|        false| false|\n",
      "|2023-01-09|Checking BoA Ritu...|  13.9|  1|             Tj Maxx|       13.9|        null| null|          Income|      null|Clothing/Shoes|        false| false|\n",
      "|2023-01-10|Capital One Quick...| 29.99|  1|                Zara|     -29.99|        null| null|         Expense|      null|Clothing/Shoes|        false| false|\n",
      "|2023-01-17|Checking BoA Ritu...| 48.12|  1|                Zara|     -48.12|        null| null|         Expense|      null|Clothing/Shoes|        false| false|\n",
      "|2023-01-17|Checking BoA Ritu...| 40.64|  1|                Zara|     -40.64|        null| null|         Expense|      null|Clothing/Shoes|        false| false|\n",
      "|2023-01-19|Adv Plus Banking ...| 52.82|  1|Checkcard 0118 On...|     -52.82|        null| null|         Expense|      null|Clothing/Shoes|        false| false|\n",
      "+----------+--------------------+------+---+--------------------+-----------+------------+-----+----------------+----------+--------------+-------------+------+\n",
      "only showing top 20 rows\n",
      "\n"
     ]
    }
   ],
   "source": [
    "#read all csv files exported from Empower\n",
    "path = glob.glob('./data/*.csv')\n",
    "df2 = spark.read.options(inferSchema='True',header='True').csv(path)\n",
    "\n",
    "\n",
    "#add more columns to df2\n",
    "df2 = df2.withColumn(\"ID\",lit(1))\\\n",
    ".withColumn(\"Item\",col(\"Description\")).drop(\"Description\")\\\n",
    ".withColumn(\"Real Amount\",col(\"Amount\"))\\\n",
    ".withColumn(\"Amount\",abs(col(\"Amount\")))\\\n",
    ".withColumn(\"Account Type\",lit(None))\\\n",
    ".withColumn(\"Owner\",lit(None))\\\n",
    ".withColumn(\"Transaction Type\",when(col(\"Real Amount\") <0, \"Expense\").otherwise(\"Income\"))\\\n",
    ".withColumn(\"Categories\",lit(None))\\\n",
    ".withColumn(\"Categories 2\",col(\"Category\")).drop(\"Category\")\\\n",
    ".withColumn(\"Owner\",lit(None))\\\n",
    ".withColumn(\"Subscriptions\",lit(False))\\\n",
    ".withColumn(\"Return\",lit(False))\\\n",
    ".drop(\"Tags\")\n",
    "\n",
    "df2.printSchema()\n",
    "\n",
    "df2.show()"
   ]
  },
  {
   "cell_type": "code",
   "execution_count": 160,
   "metadata": {},
   "outputs": [
    {
     "name": "stdout",
     "output_type": "stream",
     "text": [
      "+--------------------+--------------------+-------+----------+-----+----------------+-------------+------------+-----------+--------------------+-------------+------+------------+\n",
      "|             Account|                Item| Amount|      Date|Owner|Transaction Type|   Categories|Categories 2|Real Amount|                Note|Subscriptions|Return|Account Type|\n",
      "+--------------------+--------------------+-------+----------+-----+----------------+-------------+------------+-----------+--------------------+-------------+------+------------+\n",
      "|Checking BoA PA 7462|    Checking Account|2541.59|2021-03-24|   PA|         Income2|        Other|       Other|    2541.59|             Account|        false| false|       Debit|\n",
      "|BoA Customized Ca...|      Credit Account|1583.95|2021-03-24|   PA|        Expense2|        Other|       Other|   -1583.95|             Account|        false| false|      Credit|\n",
      "|Checking BoA PA 7462|         Vay Tùng Hà| 3000.0|2021-03-24|   PA|         Income2|       People|        Loan|     3000.0|                null|        false| false|       Debit|\n",
      "|Checking BoA PA 7462|        Send to Ritu| 3500.0|2021-03-24|   PA|         Expense|    Education|     Tuition|    -3500.0|                null|        false| false|       Debit|\n",
      "|BoA Customized Ca...| Credit Card Payment|  100.0|2021-03-24|   PA|         Income4|         Bill| Credit Card|      100.0|                null|        false| false|      Credit|\n",
      "|Checking BoA PA 7462| Credit Card Payment|  100.0|2021-03-24|   PA|        Expense4|         Bill| Credit Card|     -100.0|                null|        false| false|       Debit|\n",
      "|Checking BoA PA 7462|                Cart|    6.0|2021-03-31|   PA|         Expense|     Shopping|        Misc|       -6.0|Cart Renting at A...|        false| false|       Debit|\n",
      "|Checking BoA PA 7462|Local Restaurant ...|  39.25|2021-03-31|   PA|         Expense|       Dining|        Food|     -39.25|                null|        false| false|       Debit|\n",
      "|Checking BoA PA 7462|PGH Global Health...| 136.45|2021-04-01|   PA|         Expense|       Health|   Insurance|    -136.45|                null|        false| false|       Debit|\n",
      "|Checking BoA PA 7462|      Parking meters|    3.0|2021-04-01|   PA|         Expense|          Car|     Parking|       -3.0|       829 Beacon St|        false| false|       Debit|\n",
      "|BoA Customized Ca...|         Chili Bento|  18.73|2021-04-02|   PA|         Expense|       Dining|        Food|     -18.73|                null|        false| false|      Credit|\n",
      "|Checking BoA PA 7462|Replacement Pad a...|  411.6|2021-04-02|   PA|         Expense|          Car| Maintenance|     -411.6|                null|        false| false|       Debit|\n",
      "|Checking BoA PA 7462|          Excise Tax|  205.1|2021-04-02|   PA|         Expense|          Car|       Legal|     -205.1|                null|        false| false|       Debit|\n",
      "|Checking BoA PA 7462|            Gulf Gas|  33.06|2021-04-02|   PA|         Expense|          Car|         Gas|     -33.06|                null|        false| false|       Debit|\n",
      "|Checking BoA PA 7462|         Switch Game|   7.96|2021-04-02|   PA|         Expense|Entertainment|      Switch|      -7.96|Lego Marvel Super...|        false| false|       Debit|\n",
      "|Checking BoA PA 7462|         Switch Game|   9.55|2021-04-02|   PA|         Expense|Entertainment|      Switch|      -9.55|        Guacamelee 2|        false| false|       Debit|\n",
      "|Checking BoA PA 7462|           Groceries|  35.21|2021-04-02|   PA|         Expense|    Groceries|   Groceries|     -35.21|                  88|        false| false|       Debit|\n",
      "|Checking BoA PA 7462|             Deposit| 5000.0|2021-04-02|   PA|         Income2|       People|        Loan|     5000.0|             Deposit|        false| false|       Debit|\n",
      "|Checking BoA PA 7462|             Deposit|  295.0|2021-04-02|   PA|          Income|       Income|       Gifts|      295.0|             Deposit|        false| false|       Debit|\n",
      "|Checking BoA PA 7462|       La Mei Hotpot|   88.3|2021-04-04|   PA|         Expense|       Dining|        Food|      -88.3|                null|        false| false|       Debit|\n",
      "+--------------------+--------------------+-------+----------+-----+----------------+-------------+------------+-----------+--------------------+-------------+------+------------+\n",
      "only showing top 20 rows\n",
      "\n"
     ]
    }
   ],
   "source": [
    "# union master ledger with empower, then \n",
    "min_date = df2.select(min(\"Date\")).first()[0]\n",
    "df3 = df.filter(col(\"Date\")<min_date).unionByName(df2, allowMissingColumns=True)\n",
    "df3 = df3.drop(\"ID\",\"Account Type\").join(acc_meta, on = 'Account')\n",
    "\n",
    "df3.show()"
   ]
  },
  {
   "cell_type": "code",
   "execution_count": 161,
   "metadata": {},
   "outputs": [],
   "source": [
    "df3.toPandas().to_csv(\"./data/output/out.csv\", index_label=\"ID\")"
   ]
  }
 ],
 "metadata": {
  "kernelspec": {
   "display_name": "Python 3",
   "language": "python",
   "name": "python3"
  },
  "language_info": {
   "codemirror_mode": {
    "name": "ipython",
    "version": 3
   },
   "file_extension": ".py",
   "mimetype": "text/x-python",
   "name": "python",
   "nbconvert_exporter": "python",
   "pygments_lexer": "ipython3",
   "version": "3.11.3"
  },
  "orig_nbformat": 4
 },
 "nbformat": 4,
 "nbformat_minor": 2
}
