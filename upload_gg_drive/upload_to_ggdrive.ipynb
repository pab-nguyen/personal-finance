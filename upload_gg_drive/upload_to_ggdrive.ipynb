{
 "cells": [
  {
   "cell_type": "code",
   "execution_count": 9,
   "metadata": {},
   "outputs": [],
   "source": [
    "from pydrive.auth import GoogleAuth\n",
    "from pydrive.drive import GoogleDrive\n",
    "\n",
    "gauth = GoogleAuth()      \n",
    "drive = GoogleDrive(gauth)\n",
    "gauth.LoadCredentialsFile(\"credentials.json\")\n"
   ]
  },
  {
   "cell_type": "code",
   "execution_count": 10,
   "metadata": {},
   "outputs": [
    {
     "name": "stdout",
     "output_type": "stream",
     "text": [
      "Your browser has been opened to visit:\n",
      "\n",
      "    https://accounts.google.com/o/oauth2/auth?client_id=552299935049-qleq483hhdin6tsj1n9itd36deehq61p.apps.googleusercontent.com&redirect_uri=http%3A%2F%2Flocalhost%3A8080%2F&scope=https%3A%2F%2Fwww.googleapis.com%2Fauth%2Fdrive+https%3A%2F%2Fwww.googleapis.com%2Fauth%2Fdrive.install&access_type=offline&response_type=code&approval_prompt=force\n",
      "\n",
      "Authentication successful.\n",
      "title: Master Ledger.xlsx, id: 1W5M6D6Zyjb0N08uoGEEfDRGNRvZtkJ-4\n",
      "title: Master Ledger - OLD.xlsx, id: 1jwX_VPCGhab2gxsMIoVXBkwz8ZKXpIh8\n"
     ]
    }
   ],
   "source": [
    "file_list = drive.ListFile({'q': \"'{}' in parents and trashed=false\".format('19HgocA5Cb4QWDHXdD5YDqRg7sxjvIdLA')}).GetList()\n",
    "for file in file_list:\n",
    "\tprint('title: %s, id: %s' % (file['title'], file['id']))"
   ]
  },
  {
   "cell_type": "code",
   "execution_count": 11,
   "metadata": {},
   "outputs": [],
   "source": [
    "upload_file_list = ['../data/other_input/Master Ledger.xlsx']\n",
    "for upload_file in upload_file_list:\n",
    "\tgfile = drive.CreateFile({'id': '1W5M6D6Zyjb0N08uoGEEfDRGNRvZtkJ-4'})\n",
    "\t# Read file and set it as the content of this instance.\n",
    "\tgfile.SetContentFile(upload_file)\n",
    "\tgfile.Upload() # Upload the file.\n",
    "\tgfile.content.close()"
   ]
  }
 ],
 "metadata": {
  "kernelspec": {
   "display_name": "Python 3",
   "language": "python",
   "name": "python3"
  },
  "language_info": {
   "codemirror_mode": {
    "name": "ipython",
    "version": 3
   },
   "file_extension": ".py",
   "mimetype": "text/x-python",
   "name": "python",
   "nbconvert_exporter": "python",
   "pygments_lexer": "ipython3",
   "version": "3.11.3"
  },
  "orig_nbformat": 4
 },
 "nbformat": 4,
 "nbformat_minor": 2
}
