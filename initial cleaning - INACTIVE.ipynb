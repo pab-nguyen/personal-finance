{
 "cells": [
  {
   "cell_type": "code",
   "execution_count": 1,
   "metadata": {},
   "outputs": [],
   "source": [
    "import os\n",
    "import glob\n",
    "\n",
    "from pyspark.sql import SparkSession\n",
    "from pyspark.sql.functions import *\n",
    "from pyspark.sql.types import StringType,BooleanType,DateType,IntegerType,DoubleType\n",
    "\n",
    "spark = SparkSession.builder.appName(\"PF\").config(\"spark.sql.caseSensitive\", \"True\").getOrCreate()"
   ]
  },
  {
   "cell_type": "code",
   "execution_count": 2,
   "metadata": {},
   "outputs": [
    {
     "name": "stdout",
     "output_type": "stream",
     "text": [
      "root\n",
      " |-- ID: integer (nullable = true)\n",
      " |-- Item: string (nullable = true)\n",
      " |-- Amount: double (nullable = true)\n",
      " |-- Date: date (nullable = true)\n",
      " |-- Account: string (nullable = true)\n",
      " |-- Account Type: string (nullable = true)\n",
      " |-- Owner: string (nullable = true)\n",
      " |-- Transaction Type: string (nullable = true)\n",
      " |-- Categories: string (nullable = true)\n",
      " |-- Categories 2: string (nullable = true)\n",
      " |-- Real Amount: double (nullable = true)\n",
      " |-- Note: string (nullable = true)\n",
      " |-- Subscriptions: boolean (nullable = true)\n",
      " |-- Return: boolean (nullable = true)\n",
      "\n",
      "+---+--------------------+-------+----------+--------------------+------------+-----+----------------+-------------+------------+-----------+--------------------+-------------+------+\n",
      "| ID|                Item| Amount|      Date|             Account|Account Type|Owner|Transaction Type|   Categories|Categories 2|Real Amount|                Note|Subscriptions|Return|\n",
      "+---+--------------------+-------+----------+--------------------+------------+-----+----------------+-------------+------------+-----------+--------------------+-------------+------+\n",
      "|  1|    Checking Account|2541.59|2021-03-24|Checking BoA PA 7462|       Debit|   PA|         Income2|        Other|       Other|    2541.59|             Account|        false| false|\n",
      "|  2|      Credit Account|1583.95|2021-03-24|BoA Customized Ca...|      Credit|   PA|        Expense2|        Other|       Other|   -1583.95|             Account|        false| false|\n",
      "|  3|         Vay Tùng Hà| 3000.0|2021-03-24|Checking BoA PA 7462|       Debit|   PA|         Income2|       People|        Loan|     3000.0|                null|        false| false|\n",
      "|  4|        Send to Ritu| 3500.0|2021-03-24|Checking BoA PA 7462|       Debit|   PA|         Expense|    Education|     Tuition|    -3500.0|                null|        false| false|\n",
      "|  5| Credit Card Payment|  100.0|2021-03-24|BoA Customized Ca...|      Credit|   PA|         Income4|         Bill| Credit Card|      100.0|                null|        false| false|\n",
      "|  6| Credit Card Payment|  100.0|2021-03-24|Checking BoA PA 7462|       Debit|   PA|        Expense4|         Bill| Credit Card|     -100.0|                null|        false| false|\n",
      "|  7|                Cart|    6.0|2021-03-31|Checking BoA PA 7462|       Debit|   PA|         Expense|     Shopping|        Misc|       -6.0|Cart Renting at A...|        false| false|\n",
      "|  8|Local Restaurant ...|  39.25|2021-03-31|Checking BoA PA 7462|       Debit|   PA|         Expense|       Dining|        Food|     -39.25|                null|        false| false|\n",
      "|  9|PGH Global Health...| 136.45|2021-04-01|Checking BoA PA 7462|       Debit|   PA|         Expense|       Health|   Insurance|    -136.45|                null|        false| false|\n",
      "| 10|      Parking meters|    3.0|2021-04-01|Checking BoA PA 7462|      Credit|   PA|         Expense|          Car|     Parking|       -3.0|       829 Beacon St|        false| false|\n",
      "| 11|         Chili Bento|  18.73|2021-04-02|BoA Customized Ca...|       Debit|   PA|         Expense|       Dining|        Food|     -18.73|                null|        false| false|\n",
      "| 12|Replacement Pad a...|  411.6|2021-04-02|Checking BoA PA 7462|       Debit|   PA|         Expense|          Car| Maintenance|     -411.6|                null|        false| false|\n",
      "| 13|          Excise Tax|  205.1|2021-04-02|Checking BoA PA 7462|       Debit|   PA|         Expense|          Car|       Legal|     -205.1|                null|        false| false|\n",
      "| 14|            Gulf Gas|  33.06|2021-04-02|Checking BoA PA 7462|       Debit|   PA|         Expense|          Car|         Gas|     -33.06|                null|        false| false|\n",
      "| 15|         Switch Game|   7.96|2021-04-02|Checking BoA PA 7462|       Debit|   PA|         Expense|Entertainment|      Switch|      -7.96|Lego Marvel Super...|        false| false|\n",
      "| 16|         Switch Game|   9.55|2021-04-02|Checking BoA PA 7462|       Debit|   PA|         Expense|Entertainment|      Switch|      -9.55|        Guacamelee 2|        false| false|\n",
      "| 17|           Groceries|  35.21|2021-04-02|Checking BoA PA 7462|       Debit|   PA|         Expense|    Groceries|   Groceries|     -35.21|                  88|        false| false|\n",
      "| 18|             Deposit| 5000.0|2021-04-02|Checking BoA PA 7462|       Debit|   PA|         Income2|       People|        Loan|     5000.0|             Deposit|        false| false|\n",
      "| 19|             Deposit|  295.0|2021-04-02|Checking BoA PA 7462|       Debit|   PA|          Income|       Income|       Gifts|      295.0|             Deposit|        false| false|\n",
      "| 20|       La Mei Hotpot|   88.3|2021-04-04|Checking BoA PA 7462|       Debit|   PA|         Expense|       Dining|        Food|      -88.3|                null|        false| false|\n",
      "+---+--------------------+-------+----------+--------------------+------------+-----+----------------+-------------+------------+-----------+--------------------+-------------+------+\n",
      "only showing top 20 rows\n",
      "\n"
     ]
    }
   ],
   "source": [
    "#read inputs \n",
    "acc_meta = spark.read.options(inferSchema='True',header='True').csv('./data/other_input/account_metadata.csv')\n",
    "\n",
    "\n",
    "#read master ledger file\n",
    "path = glob.glob('./data/other_input/Master Ledger.xlsx - Master_Ledger.csv')\n",
    "df = spark.read.options(inferSchema='True',header='True').csv(path)\n",
    "df = df.withColumn(\"ID\",col(\"ID\").cast(IntegerType()))\\\n",
    "        .withColumn(\"Amount\",col(\"Amount\").cast(DoubleType()))\\\n",
    "        .withColumn(\"Subscriptions\",col(\"Subscriptions\").cast(BooleanType()))\\\n",
    "        .withColumn(\"Return\",col(\"Return\").cast(BooleanType()))\\\n",
    "        .withColumn(\"Real Amount\",col(\"Real Amount\").cast(DoubleType()))\n",
    "\n",
    "df = df.withColumn(\"Date\",to_date(col(\"Date\"),\"MM/dd/yyyy\"))\n",
    "df.printSchema()\n",
    "df = df.dropna(how=\"all\",subset= [\"ID\"])\n",
    "df.orderBy(\"ID\", ascending=True).show()"
   ]
  },
  {
   "cell_type": "code",
   "execution_count": 3,
   "metadata": {},
   "outputs": [
    {
     "name": "stdout",
     "output_type": "stream",
     "text": [
      "root\n",
      " |-- Date: date (nullable = true)\n",
      " |-- Account: string (nullable = true)\n",
      " |-- Amount: double (nullable = true)\n",
      " |-- ID: integer (nullable = false)\n",
      " |-- Item: string (nullable = true)\n",
      " |-- Real Amount: double (nullable = true)\n",
      " |-- Account Type: void (nullable = true)\n",
      " |-- Owner: void (nullable = true)\n",
      " |-- Transaction Type: string (nullable = false)\n",
      " |-- Subscriptions: boolean (nullable = false)\n",
      " |-- Return: boolean (nullable = false)\n",
      "\n",
      "+----------+--------------------+------+---+--------------------+-----------+------------+-----+----------------+-------------+------+\n",
      "|      Date|             Account|Amount| ID|                Item|Real Amount|Account Type|Owner|Transaction Type|Subscriptions|Return|\n",
      "+----------+--------------------+------+---+--------------------+-----------+------------+-----+----------------+-------------+------+\n",
      "|2023-05-11| Robinhoodinvestment|  3.25|  1|Deposit From Adv ...|       3.25|        null| null|          Income|        false| false|\n",
      "|2023-05-05|401(k) Savings An...| 48.14|  1|Vanguard Target X...|      48.14|        null| null|          Income|        false| false|\n",
      "|2023-05-05|401(k) Savings An...| 96.28|  1|Trp Us Mdcp Gr Tr...|      96.28|        null| null|          Income|        false| false|\n",
      "|2023-05-05|401(k) Savings An...| 48.14|  1|Fid Extd Mkt Idx ...|      48.14|        null| null|          Income|        false| false|\n",
      "|2023-05-05|401(k) Savings An...|120.34|  1|Fid Contrafund Po...|     120.34|        null| null|          Income|        false| false|\n",
      "|2023-05-05|401(k) Savings An...|168.48|  1|Fid 500 Index - C...|     168.48|        null| null|          Income|        false| false|\n",
      "|2023-05-05|Roth Ira - Ending...|  30.0|  1|You Bought Prospe...|      -30.0|        null| null|         Expense|        false| false|\n",
      "|2023-05-05|Roth Ira - Ending...|  40.0|  1|You Bought Prospe...|      -40.0|        null| null|         Expense|        false| false|\n",
      "|2023-05-05|Roth Ira - Ending...|  20.0|  1|You Bought Prospe...|      -20.0|        null| null|         Expense|        false| false|\n",
      "|2023-05-05|Roth Ira - Ending...|  20.0|  1|You Bought Prospe...|      -20.0|        null| null|         Expense|        false| false|\n",
      "|2023-05-05|Roth Ira - Ending...|  32.0|  1|You Bought Prospe...|      -32.0|        null| null|         Expense|        false| false|\n",
      "|2023-05-04| Robinhoodinvestment|   5.0|  1|      Robinhood Gold|       -5.0|        null| null|         Expense|        false| false|\n",
      "|2023-05-01|Health Savings Ac...|   5.3|  1|        Cvs Pharmacy|       -5.3|        null| null|         Expense|        false| false|\n",
      "|2023-05-01|Health Savings Ac...| 23.24|  1|        Cvs Pharmacy|     -23.24|        null| null|         Expense|        false| false|\n",
      "|2023-05-01|Health Savings Ac...| 29.89|  1|        Cvs Pharmacy|     -29.89|        null| null|         Expense|        false| false|\n",
      "|2023-05-01|Roth Ira - Ending...|  50.0|  1|You Bought Prospe...|      -50.0|        null| null|         Expense|        false| false|\n",
      "|2023-04-29| Robinhoodinvestment|  4.43|  1|Spdr S&p 500 Etf ...|      -4.43|        null| null|         Expense|        false| false|\n",
      "|2023-04-28| Robinhoodinvestment|  4.43|  1|Dividend From Spd...|       4.43|        null| null|          Income|        false| false|\n",
      "|2023-04-28| Robinhoodinvestment|  0.04|  1|            Interest|       0.04|        null| null|          Income|        false| false|\n",
      "|2023-04-28|401(k) Savings An...|  2.11|  1|Fid Us Bond Idx -...|       2.11|        null| null|          Income|        false| false|\n",
      "+----------+--------------------+------+---+--------------------+-----------+------------+-----+----------------+-------------+------+\n",
      "only showing top 20 rows\n",
      "\n"
     ]
    }
   ],
   "source": [
    "#read all csv files exported from Empower\n",
    "path = glob.glob('./data/empower_input/*.csv')\n",
    "df2 = spark.read.options(inferSchema='True',header='True').csv(path)\n",
    "\n",
    "\n",
    "#add more columns to df2\n",
    "df2 = df2.withColumn(\"ID\",lit(1))\\\n",
    ".withColumn(\"Item\",col(\"Description\")).drop(\"Description\")\\\n",
    ".withColumn(\"Real Amount\",col(\"Amount\"))\\\n",
    ".withColumn(\"Amount\",abs(col(\"Amount\")))\\\n",
    ".withColumn(\"Account Type\",lit(None))\\\n",
    ".withColumn(\"Owner\",lit(None))\\\n",
    ".withColumn(\"Transaction Type\",when(col(\"Real Amount\") <0, \"Expense\").otherwise(\"Income\"))\\\n",
    ".drop(\"Category\")\\\n",
    ".withColumn(\"Owner\",lit(None))\\\n",
    ".withColumn(\"Subscriptions\",lit(False))\\\n",
    ".withColumn(\"Return\",lit(False))\\\n",
    ".drop(\"Tags\")\n",
    "df2.printSchema()\n",
    "\n",
    "df2.show()"
   ]
  },
  {
   "cell_type": "code",
   "execution_count": 4,
   "metadata": {},
   "outputs": [
    {
     "name": "stdout",
     "output_type": "stream",
     "text": [
      "+--------------------+--------------------+-------+----------+----------------+-------------+------------+-----------+--------------------+-------------+------+------------+-----+\n",
      "|             Account|                Item| Amount|      Date|Transaction Type|   Categories|Categories 2|Real Amount|                Note|Subscriptions|Return|Account Type|Owner|\n",
      "+--------------------+--------------------+-------+----------+----------------+-------------+------------+-----------+--------------------+-------------+------+------------+-----+\n",
      "|Checking BoA PA 7462|    Checking Account|2541.59|2021-03-24|         Income2|        Other|       Other|    2541.59|             Account|        false| false|       Debit|   PA|\n",
      "|BoA Customized Ca...|      Credit Account|1583.95|2021-03-24|        Expense2|        Other|       Other|   -1583.95|             Account|        false| false|      Credit|   PA|\n",
      "|Checking BoA PA 7462|         Vay Tùng Hà| 3000.0|2021-03-24|         Income2|       People|        Loan|     3000.0|                null|        false| false|       Debit|   PA|\n",
      "|Checking BoA PA 7462|        Send to Ritu| 3500.0|2021-03-24|         Expense|    Education|     Tuition|    -3500.0|                null|        false| false|       Debit|   PA|\n",
      "|BoA Customized Ca...| Credit Card Payment|  100.0|2021-03-24|         Income4|         Bill| Credit Card|      100.0|                null|        false| false|      Credit|   PA|\n",
      "|Checking BoA PA 7462| Credit Card Payment|  100.0|2021-03-24|        Expense4|         Bill| Credit Card|     -100.0|                null|        false| false|       Debit|   PA|\n",
      "|Checking BoA PA 7462|                Cart|    6.0|2021-03-31|         Expense|     Shopping|        Misc|       -6.0|Cart Renting at A...|        false| false|       Debit|   PA|\n",
      "|Checking BoA PA 7462|Local Restaurant ...|  39.25|2021-03-31|         Expense|       Dining|        Food|     -39.25|                null|        false| false|       Debit|   PA|\n",
      "|Checking BoA PA 7462|PGH Global Health...| 136.45|2021-04-01|         Expense|       Health|   Insurance|    -136.45|                null|        false| false|       Debit|   PA|\n",
      "|Checking BoA PA 7462|      Parking meters|    3.0|2021-04-01|         Expense|          Car|     Parking|       -3.0|       829 Beacon St|        false| false|       Debit|   PA|\n",
      "|BoA Customized Ca...|         Chili Bento|  18.73|2021-04-02|         Expense|       Dining|        Food|     -18.73|                null|        false| false|      Credit|   PA|\n",
      "|Checking BoA PA 7462|Replacement Pad a...|  411.6|2021-04-02|         Expense|          Car| Maintenance|     -411.6|                null|        false| false|       Debit|   PA|\n",
      "|Checking BoA PA 7462|          Excise Tax|  205.1|2021-04-02|         Expense|          Car|       Legal|     -205.1|                null|        false| false|       Debit|   PA|\n",
      "|Checking BoA PA 7462|            Gulf Gas|  33.06|2021-04-02|         Expense|          Car|         Gas|     -33.06|                null|        false| false|       Debit|   PA|\n",
      "|Checking BoA PA 7462|         Switch Game|   7.96|2021-04-02|         Expense|Entertainment|      Switch|      -7.96|Lego Marvel Super...|        false| false|       Debit|   PA|\n",
      "|Checking BoA PA 7462|         Switch Game|   9.55|2021-04-02|         Expense|Entertainment|      Switch|      -9.55|        Guacamelee 2|        false| false|       Debit|   PA|\n",
      "|Checking BoA PA 7462|           Groceries|  35.21|2021-04-02|         Expense|    Groceries|   Groceries|     -35.21|                  88|        false| false|       Debit|   PA|\n",
      "|Checking BoA PA 7462|             Deposit| 5000.0|2021-04-02|         Income2|       People|        Loan|     5000.0|             Deposit|        false| false|       Debit|   PA|\n",
      "|Checking BoA PA 7462|             Deposit|  295.0|2021-04-02|          Income|       Income|       Gifts|      295.0|             Deposit|        false| false|       Debit|   PA|\n",
      "|Checking BoA PA 7462|       La Mei Hotpot|   88.3|2021-04-04|         Expense|       Dining|        Food|      -88.3|                null|        false| false|       Debit|   PA|\n",
      "+--------------------+--------------------+-------+----------+----------------+-------------+------------+-----------+--------------------+-------------+------+------------+-----+\n",
      "only showing top 20 rows\n",
      "\n"
     ]
    }
   ],
   "source": [
    "# union master ledger with empower, then \n",
    "min_date = df2.select(min(\"Date\")).first()[0]\n",
    "df3 = df.filter(col(\"Date\")< lit(\"2023-05-01\")).unionByName(df2, allowMissingColumns=True)\n",
    "df3 = df3.drop(\"ID\",\"Account Type\",\"Owner\").join(acc_meta, on = 'Account').orderBy(\"Date\")\n",
    "df3.show()"
   ]
  },
  {
   "cell_type": "code",
   "execution_count": 5,
   "metadata": {},
   "outputs": [],
   "source": [
    "df3.toPandas().to_csv(\"./data/output/out.csv\", index_label=\"ID\")"
   ]
  }
 ],
 "metadata": {
  "kernelspec": {
   "display_name": "Python 3",
   "language": "python",
   "name": "python3"
  },
  "language_info": {
   "codemirror_mode": {
    "name": "ipython",
    "version": 3
   },
   "file_extension": ".py",
   "mimetype": "text/x-python",
   "name": "python",
   "nbconvert_exporter": "python",
   "pygments_lexer": "ipython3",
   "version": "3.11.3"
  },
  "orig_nbformat": 4
 },
 "nbformat": 4,
 "nbformat_minor": 2
}
