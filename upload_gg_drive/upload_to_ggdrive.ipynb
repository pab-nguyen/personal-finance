{
 "cells": [
  {
   "cell_type": "code",
   "execution_count": 1,
   "metadata": {},
   "outputs": [],
   "source": [
    "from pydrive.auth import GoogleAuth\n",
    "from pydrive.drive import GoogleDrive\n",
    "\n",
    "gauth = GoogleAuth()      \n",
    "drive = GoogleDrive(gauth)\n",
    "gauth.LoadCredentialsFile(\"credentials.json\")\n"
   ]
  },
  {
   "cell_type": "code",
   "execution_count": 2,
   "metadata": {},
   "outputs": [
    {
     "name": "stdout",
     "output_type": "stream",
     "text": [
      "title: Master Ledger.xlsx, id: 1W5M6D6Zyjb0N08uoGEEfDRGNRvZtkJ-4\n",
      "title: Master Ledger - OLD.xlsx, id: 1jwX_VPCGhab2gxsMIoVXBkwz8ZKXpIh8\n"
     ]
    }
   ],
   "source": [
    "file_list = drive.ListFile({'q': \"'{}' in parents and trashed=false\".format('19HgocA5Cb4QWDHXdD5YDqRg7sxjvIdLA')}).GetList()\n",
    "for file in file_list:\n",
    "\tprint('title: %s, id: %s' % (file['title'], file['id']))"
   ]
  },
  {
   "cell_type": "code",
   "execution_count": 3,
   "metadata": {},
   "outputs": [],
   "source": [
    "upload_file_list = ['../data/other_input/Master Ledger.xlsx']\n",
    "for upload_file in upload_file_list:\n",
    "\tgfile = drive.CreateFile({'id': '1W5M6D6Zyjb0N08uoGEEfDRGNRvZtkJ-4'})\n",
    "\t# Read file and set it as the content of this instance.\n",
    "\tgfile.SetContentFile(upload_file)\n",
    "\tgfile.Upload() # Upload the file.\n",
    "\tgfile.content.close()"
   ]
  }
 ],
 "metadata": {
  "kernelspec": {
   "display_name": "Python 3",
   "language": "python",
   "name": "python3"
  },
  "language_info": {
   "codemirror_mode": {
    "name": "ipython",
    "version": 3
   },
   "file_extension": ".py",
   "mimetype": "text/x-python",
   "name": "python",
   "nbconvert_exporter": "python",
   "pygments_lexer": "ipython3",
   "version": "3.11.3"
  },
  "orig_nbformat": 4
 },
 "nbformat": 4,
 "nbformat_minor": 2
}
