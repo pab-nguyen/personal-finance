{
 "cells": [
  {
   "cell_type": "code",
   "execution_count": 11,
   "metadata": {},
   "outputs": [],
   "source": [
    "import os\n",
    "import glob\n",
    "import pandas as pd\n",
    "from pyspark.sql import SparkSession\n",
    "from pyspark.sql.functions import *\n",
    "from pyspark.sql.types import StringType,BooleanType,DateType,IntegerType,DoubleType\n",
    "\n",
    "spark = SparkSession.builder.appName(\"PF\").config(\"spark.sql.caseSensitive\", \"True\").getOrCreate()"
   ]
  },
  {
   "cell_type": "code",
   "execution_count": 12,
   "metadata": {},
   "outputs": [
    {
     "name": "stdout",
     "output_type": "stream",
     "text": [
      "root\n",
      " |-- ID: integer (nullable = true)\n",
      " |-- Account: string (nullable = true)\n",
      " |-- Item: string (nullable = true)\n",
      " |-- Amount: double (nullable = true)\n",
      " |-- Date: date (nullable = true)\n",
      " |-- Transaction Type: string (nullable = true)\n",
      " |-- Categories: string (nullable = true)\n",
      " |-- Categories 2: string (nullable = true)\n",
      " |-- Real Amount: double (nullable = true)\n",
      " |-- Note: string (nullable = true)\n",
      " |-- Subscriptions: boolean (nullable = true)\n",
      " |-- Return: boolean (nullable = true)\n",
      " |-- Account Type: string (nullable = true)\n",
      " |-- Owner: string (nullable = true)\n",
      "\n",
      "+----+--------------------+--------------------+------+----------+----------------+-------------+------------+-----------+--------------------+-------------+------+------------+-----+\n",
      "|  ID|             Account|                Item|Amount|      Date|Transaction Type|   Categories|Categories 2|Real Amount|                Note|Subscriptions|Return|Account Type|Owner|\n",
      "+----+--------------------+--------------------+------+----------+----------------+-------------+------------+-----------+--------------------+-------------+------+------------+-----+\n",
      "|2714|Checking BoA Ritu...|Purchase Refund 0...| 60.26|2023-05-15|          Income|        Other|       Event|      60.26|                    |        false|  true|       Debit| Ritu|\n",
      "|2713|Checking BoA Ritu...|               Venmo|  43.0|2023-05-15|          Income|       Dining|        Food|       43.0|                    |        false| false|       Debit| Ritu|\n",
      "|2712|Checking BoA Ritu...|      Dunkin' Donuts|  10.0|2023-05-15|         Expense|       Dining|        Food|      -10.0|                    |        false| false|       Debit| Ritu|\n",
      "|2711|Checking BoA Ritu...|Purchase 0512 Dic...|120.52|2023-05-15|         Expense|        Other|       Event|    -120.52|                    |        false|  true|       Debit| Ritu|\n",
      "|2710|Checking BoA Ritu...|Purchase 0513 Ati...| 66.75|2023-05-15|         Expense|Entertainment|      Movies|     -66.75|                    |        false| false|       Debit| Ritu|\n",
      "|2709|Checking BoA Ritu...|              Klarna|320.83|2023-05-15|         Expense|     Shopping|     Clothes|    -320.83|                    |        false| false|       Debit| Ritu|\n",
      "|2708|Checking BoA Ritu...|Purchase 0514 Ati...| 14.25|2023-05-15|         Expense|Entertainment|      Movies|     -14.25|                    |        false| false|       Debit| Ritu|\n",
      "|2707|Adv Plus Banking ...|           Town News|  2.49|2023-05-15|         Expense|       Dining|      Drinks|      -2.49|                    |        false| false|       Debit|Joint|\n",
      "|2706|Adv Plus Banking ...|              Paypal| 90.89|2023-05-15|         Expense|       People|       Gifts|     -90.89| Mothers Day flowers|        false| false|       Debit|Joint|\n",
      "|2705|Adv Plus Banking ...|         Dollar Tree| 11.86|2023-05-15|         Expense|       Dining|        Food|     -11.86|                    |        false| false|       Debit|Joint|\n",
      "|2704|Adv Plus Banking ...|         Dollar Tree| 14.45|2023-05-15|         Expense|       Dining|        Food|     -14.45|                    |        false| false|       Debit|Joint|\n",
      "|2703|Adv Plus Banking ...|      The Home Depot|131.33|2023-05-15|         Expense|     Shopping|   Household|    -131.33|                    |        false| false|       Debit|Joint|\n",
      "|2702|Adv Plus Banking ...|               Nayax|   2.0|2023-05-15|         Expense|     Shopping|        Misc|       -2.0|                    |        false| false|       Debit|Joint|\n",
      "|2701|Adv Plus Banking ...|Good Fortune Supe...| 50.46|2023-05-15|         Expense|    Groceries|   Groceries|     -50.46|                    |        false| false|       Debit|Joint|\n",
      "|2700|Adv Plus Banking ...|              Airbnb|307.01|2023-05-15|         Expense|       Travel|        Stay|    -307.01|                    |        false| false|       Debit|Joint|\n",
      "|2699|Adv Plus Banking ...|              Paypal|  2.73|2023-05-15|         Expense|       People|       Gifts|      -2.73|international tra...|        false| false|       Debit|Joint|\n",
      "|2698|Checking BoA PA 7462|     Bank Of America|118.96|2023-05-15|        Expense4|         Bill| Credit Card|    -118.96|                    |        false| false|       Debit|   PA|\n",
      "|2697|Discover It Ritu ...|Directpay Minimum...|  50.0|2023-05-15|         Income4|         Bill| Credit Card|       50.0|                    |        false| false|      Credit| Ritu|\n",
      "|2696|BoA Customized Ca...| Payment - Thank You|118.96|2023-05-14|         Income4|         Bill| Credit Card|     118.96|                    |        false| false|      Credit|   PA|\n",
      "|2695|Discover It Ritu ...|           Walgreens| 12.29|2023-05-14|         Expense|       Health|    Medicine|     -12.29|                    |        false| false|      Credit| Ritu|\n",
      "+----+--------------------+--------------------+------+----------+----------------+-------------+------------+-----------+--------------------+-------------+------+------------+-----+\n",
      "only showing top 20 rows\n",
      "\n"
     ]
    }
   ],
   "source": [
    "#read inputs \n",
    "acc_meta = spark.read.options(inferSchema='True',header='True').csv('./data/other_input/account_metadata.csv')\n",
    "\n",
    "\n",
    "#read master ledger file\n",
    "df = spark.createDataFrame(pd.read_excel('./data/other_input/Master Ledger.xlsx',sheet_name=\"Master Ledger\"))\n",
    "df = df.withColumn(\"ID\",col(\"ID\").cast(IntegerType()))\\\n",
    "        .withColumn(\"Amount\",col(\"Amount\").cast(DoubleType()))\\\n",
    "        .withColumn(\"Subscriptions\",col(\"Subscriptions\").cast(BooleanType()))\\\n",
    "        .withColumn(\"Return\",col(\"Return\").cast(BooleanType()))\\\n",
    "        .withColumn(\"Real Amount\",col(\"Real Amount\").cast(DoubleType()))\\\n",
    "        .filter(col(\"Date\") < current_date()-2)\n",
    "\n",
    "df = df.withColumn(\"Date\",to_date(col(\"Date\"),\"MM/dd/yyyy\"))\n",
    "df.printSchema()\n",
    "df = df.dropna(how=\"all\",subset= [\"ID\"])\n",
    "df = df.replace('NaN',\"\")\n",
    "df.orderBy(\"ID\", ascending=False).show()"
   ]
  },
  {
   "cell_type": "code",
   "execution_count": 13,
   "metadata": {},
   "outputs": [
    {
     "name": "stdout",
     "output_type": "stream",
     "text": [
      "root\n",
      " |-- Date: date (nullable = true)\n",
      " |-- Account: string (nullable = true)\n",
      " |-- Amount: double (nullable = true)\n",
      " |-- ID: integer (nullable = false)\n",
      " |-- Item: string (nullable = true)\n",
      " |-- Real Amount: double (nullable = true)\n",
      " |-- Account Type: void (nullable = true)\n",
      " |-- Owner: void (nullable = true)\n",
      " |-- Transaction Type: string (nullable = false)\n",
      " |-- Subscriptions: boolean (nullable = false)\n",
      " |-- Return: boolean (nullable = false)\n",
      "\n",
      "+----------+--------------------+------+---+--------------------+-----------+------------+-----+----------------+-------------+------+\n",
      "|      Date|             Account|Amount| ID|                Item|Real Amount|Account Type|Owner|Transaction Type|Subscriptions|Return|\n",
      "+----------+--------------------+------+---+--------------------+-----------+------------+-----+----------------+-------------+------+\n",
      "|2023-04-18|Adv Plus Banking ...|1500.0|  1|               Zelle|    -1500.0|        null| null|         Expense|        false| false|\n",
      "|2023-04-17|Adv Plus Banking ...|3500.0|  1|               Zelle|    -3500.0|        null| null|         Expense|        false| false|\n",
      "|2023-03-31|Checking BoA Ritu...|2300.0|  1|               Zelle|     2300.0|        null| null|          Income|        false| false|\n",
      "|2023-03-31|Checking BoA Ritu...| 100.0|  1|               Zelle|      100.0|        null| null|          Income|        false| false|\n",
      "|2023-03-31|Checking BoA PA 7462| 200.0|  1|               Zelle|      200.0|        null| null|          Income|        false| false|\n",
      "|2023-03-07|Checking BoA Ritu...|  50.0|  1|               Zelle|      -50.0|        null| null|         Expense|        false| false|\n",
      "|2023-03-06|Checking BoA PA 7462| 500.0|  1|               Zelle|     -500.0|        null| null|         Expense|        false| false|\n",
      "|2023-05-01|Roth Ira - Ending...|  50.0|  1|You Bought Prospe...|      -50.0|        null| null|         Expense|        false| false|\n",
      "|2023-05-05|Roth Ira - Ending...|  32.0|  1|You Bought Prospe...|      -32.0|        null| null|         Expense|        false| false|\n",
      "|2023-05-05|Roth Ira - Ending...|  30.0|  1|You Bought Prospe...|      -30.0|        null| null|         Expense|        false| false|\n",
      "|2023-05-05|Roth Ira - Ending...|  20.0|  1|You Bought Prospe...|      -20.0|        null| null|         Expense|        false| false|\n",
      "|2023-05-05|Roth Ira - Ending...|  20.0|  1|You Bought Prospe...|      -20.0|        null| null|         Expense|        false| false|\n",
      "|2023-05-05|Roth Ira - Ending...|  40.0|  1|You Bought Prospe...|      -40.0|        null| null|         Expense|        false| false|\n",
      "|2023-05-10| Discover It PA 1762| 34.28|  1|Yifang Taiwan Fru...|     -34.28|        null| null|         Expense|        false| false|\n",
      "|2023-03-23|Citi AAdvantage 9546|  9.16|  1|Yifang Taiwan Fru...|      -9.16|        null| null|         Expense|        false| false|\n",
      "|2023-03-12|BoA Customized Ca...| 18.16|  1|Xing Fu Tang New ...|     -18.16|        null| null|         Expense|        false| false|\n",
      "|2023-03-30|Adv Plus Banking ...| 37.97|  1|             Wegmans|     -37.97|        null| null|         Expense|        false| false|\n",
      "|2023-05-14|Discover It Ritu ...| 12.29|  1|           Walgreens|     -12.29|        null| null|         Expense|        false| false|\n",
      "|2023-05-06| Discover It PA 1762|   3.8|  1|           Walgreens|       -3.8|        null| null|         Expense|        false| false|\n",
      "|2023-04-15|Discover It Ritu ...|384.31|  1|W Concept Usa Inc...|    -384.31|        null| null|         Expense|        false| false|\n",
      "+----------+--------------------+------+---+--------------------+-----------+------------+-----+----------------+-------------+------+\n",
      "only showing top 20 rows\n",
      "\n"
     ]
    }
   ],
   "source": [
    "#read all csv files exported from Empower\n",
    "path = glob.glob('./data/empower_input/*.csv')\n",
    "df2 = spark.read.options(inferSchema='True',header='True').csv(path)\n",
    "\n",
    "\n",
    "#add more columns to df2\n",
    "df2 = df2.withColumn(\"ID\",lit(1))\\\n",
    ".withColumn(\"Item\",col(\"Description\")).drop(\"Description\")\\\n",
    ".withColumn(\"Real Amount\",col(\"Amount\"))\\\n",
    ".withColumn(\"Amount\",abs(col(\"Amount\")))\\\n",
    ".withColumn(\"Account Type\",lit(None))\\\n",
    ".withColumn(\"Owner\",lit(None))\\\n",
    ".withColumn(\"Transaction Type\",when(col(\"Real Amount\") <0, \"Expense\").otherwise(\"Income\"))\\\n",
    ".drop(\"Category\")\\\n",
    ".withColumn(\"Owner\",lit(None))\\\n",
    ".withColumn(\"Subscriptions\",lit(False))\\\n",
    ".withColumn(\"Return\",lit(False))\\\n",
    ".drop(\"Tags\")\\\n",
    ".filter(col(\"Date\") < current_date()-2)\n",
    "\n",
    "df2.printSchema()\n",
    "\n",
    "df2.show()"
   ]
  },
  {
   "cell_type": "code",
   "execution_count": 14,
   "metadata": {},
   "outputs": [
    {
     "name": "stdout",
     "output_type": "stream",
     "text": [
      "+--------------------+--------------------+------+----------+----------------+-------------+------------+-----------+--------------------+-------------+------+------------+-----+\n",
      "|             Account|                Item|Amount|      Date|Transaction Type|   Categories|Categories 2|Real Amount|                Note|Subscriptions|Return|Account Type|Owner|\n",
      "+--------------------+--------------------+------+----------+----------------+-------------+------------+-----------+--------------------+-------------+------+------------+-----+\n",
      "|Discover It Ritu ...|             Tj Maxx| 217.2|2023-05-17|         Expense|         null|        null|     -217.2|                null|        false| false|      Credit| Ritu|\n",
      "|Discover It Ritu ...|            Gulf Oil| 40.23|2023-05-17|         Expense|         null|        null|     -40.23|                null|        false| false|      Credit| Ritu|\n",
      "|Amazon Prime Cred...|Automatic Payment...|322.17|2023-05-17|          Income|         null|        null|     322.17|                null|        false| false|      Credit| Ritu|\n",
      "| Discover It PA 1762|               Apple|  0.99|2023-05-17|         Expense|         null|        null|      -0.99|                null|        false| false|      Credit| Ritu|\n",
      "|Amazon Prime Cred...|              Amazon| 10.59|2023-05-17|         Expense|         null|        null|     -10.59|                null|        false| false|      Credit| Ritu|\n",
      "|Checking BoA Ritu...|              Klarna|   8.4|2023-05-16|         Expense|         null|        null|       -8.4|                null|        false| false|       Debit| Ritu|\n",
      "|Adv Plus Banking ...|       Discover Bank|  50.0|2023-05-16|         Expense|         null|        null|      -50.0|                null|        false| false|       Debit|Joint|\n",
      "|Amazon Prime Cred...|  Amazon Marketplace| 29.79|2023-05-16|         Expense|         null|        null|     -29.79|                null|        false| false|      Credit| Ritu|\n",
      "|Adv Plus Banking ...|              Airbnb|307.01|2023-05-15|         Expense|       Travel|        Stay|    -307.01|                    |        false| false|       Debit|Joint|\n",
      "|Discover It Ritu ...|Directpay Minimum...|  50.0|2023-05-15|         Income4|         Bill| Credit Card|       50.0|                    |        false| false|      Credit| Ritu|\n",
      "|Checking BoA PA 7462|     Bank Of America|118.96|2023-05-15|        Expense4|         Bill| Credit Card|    -118.96|                    |        false| false|       Debit|   PA|\n",
      "|Adv Plus Banking ...|              Paypal|  2.73|2023-05-15|         Expense|       People|       Gifts|      -2.73|international tra...|        false| false|       Debit|Joint|\n",
      "|Adv Plus Banking ...|Good Fortune Supe...| 50.46|2023-05-15|         Expense|    Groceries|   Groceries|     -50.46|                    |        false| false|       Debit|Joint|\n",
      "|Adv Plus Banking ...|               Nayax|   2.0|2023-05-15|         Expense|     Shopping|        Misc|       -2.0|                    |        false| false|       Debit|Joint|\n",
      "|Adv Plus Banking ...|      The Home Depot|131.33|2023-05-15|         Expense|     Shopping|   Household|    -131.33|                    |        false| false|       Debit|Joint|\n",
      "|Adv Plus Banking ...|         Dollar Tree| 14.45|2023-05-15|         Expense|       Dining|        Food|     -14.45|                    |        false| false|       Debit|Joint|\n",
      "|Adv Plus Banking ...|         Dollar Tree| 11.86|2023-05-15|         Expense|       Dining|        Food|     -11.86|                    |        false| false|       Debit|Joint|\n",
      "|Adv Plus Banking ...|              Paypal| 90.89|2023-05-15|         Expense|       People|       Gifts|     -90.89| Mothers Day flowers|        false| false|       Debit|Joint|\n",
      "|Adv Plus Banking ...|           Town News|  2.49|2023-05-15|         Expense|       Dining|      Drinks|      -2.49|                    |        false| false|       Debit|Joint|\n",
      "|Checking BoA Ritu...|Purchase 0514 Ati...| 14.25|2023-05-15|         Expense|Entertainment|      Movies|     -14.25|                    |        false| false|       Debit| Ritu|\n",
      "+--------------------+--------------------+------+----------+----------------+-------------+------------+-----------+--------------------+-------------+------+------------+-----+\n",
      "only showing top 20 rows\n",
      "\n"
     ]
    }
   ],
   "source": [
    "# union master ledger with empower, then \n",
    "max_date = df.select(max(\"Date\")).first()[0]\n",
    "df3 = df.unionByName(df2.filter(col(\"Date\")> max_date), allowMissingColumns=True)\n",
    "df3 = df3.drop(\"ID\",\"Account Type\",\"Owner\").join(acc_meta, on = 'Account').orderBy(\"Date\")\n",
    "df3.orderBy(\"Date\", ascending=False).show()"
   ]
  },
  {
   "cell_type": "code",
   "execution_count": 15,
   "metadata": {},
   "outputs": [],
   "source": [
    "df3.toPandas().to_csv(\"./data/output/out.csv\", index_label=\"ID\")"
   ]
  }
 ],
 "metadata": {
  "kernelspec": {
   "display_name": "Python 3",
   "language": "python",
   "name": "python3"
  },
  "language_info": {
   "codemirror_mode": {
    "name": "ipython",
    "version": 3
   },
   "file_extension": ".py",
   "mimetype": "text/x-python",
   "name": "python",
   "nbconvert_exporter": "python",
   "pygments_lexer": "ipython3",
   "version": "3.11.3"
  },
  "orig_nbformat": 4
 },
 "nbformat": 4,
 "nbformat_minor": 2
}
