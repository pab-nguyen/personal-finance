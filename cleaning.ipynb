{
 "cells": [
  {
   "cell_type": "code",
   "execution_count": 63,
   "metadata": {},
   "outputs": [],
   "source": [
    "import os\n",
    "import glob\n",
    "import pandas as pd\n",
    "from pyspark.sql import SparkSession\n",
    "from pyspark.sql.functions import *\n",
    "from pyspark.sql.types import StringType,BooleanType,DateType,IntegerType,DoubleType\n",
    "from pyspark.sql.window import Window\n",
    "\n",
    "spark = SparkSession.builder.appName(\"PF\").config(\"spark.sql.caseSensitive\", \"True\").getOrCreate()"
   ]
  },
  {
   "cell_type": "code",
   "execution_count": 64,
   "metadata": {},
   "outputs": [
    {
     "name": "stdout",
     "output_type": "stream",
     "text": [
      "root\n",
      " |-- ID: integer (nullable = true)\n",
      " |-- Account: string (nullable = true)\n",
      " |-- Item: string (nullable = true)\n",
      " |-- Amount: double (nullable = true)\n",
      " |-- Date: date (nullable = true)\n",
      " |-- Transaction Type: string (nullable = true)\n",
      " |-- Categories: string (nullable = true)\n",
      " |-- Categories 2: string (nullable = true)\n",
      " |-- Real Amount: double (nullable = true)\n",
      " |-- Note: string (nullable = true)\n",
      " |-- Subscriptions: boolean (nullable = true)\n",
      " |-- Return: boolean (nullable = true)\n",
      " |-- Account Type: string (nullable = true)\n",
      " |-- Owner: string (nullable = true)\n",
      "\n",
      "+----+--------------------+--------------------+------+----------+----------------+----------+------------+-----------+--------------+-------------+------+------------+-----+\n",
      "|  ID|             Account|                Item|Amount|      Date|Transaction Type|Categories|Categories 2|Real Amount|          Note|Subscriptions|Return|Account Type|Owner|\n",
      "+----+--------------------+--------------------+------+----------+----------------+----------+------------+-----------+--------------+-------------+------+------------+-----+\n",
      "|2769|Checking BoA Ritu...|Zelle Payment Fro...| 200.0|2023-05-22|          Income|    People|      Family|      200.0|              |        false| false|       Debit| Ritu|\n",
      "|2768|Adv Plus Banking ...|      The Home Depot|126.44|2023-05-22|          Income|  Shopping|   Household|     126.44|              |        false| false|       Debit|Joint|\n",
      "|2767| Robinhoodinvestment|Deposit From Adv ...| 100.0|2023-05-22|         Income3|Investment|     Deposit|      100.0|              |        false| false|  Investment|Joint|\n",
      "|2766|Checking BoA Ritu...|      Dunkin' Donuts|   8.0|2023-05-22|         Expense|    Dining|        Food|       -8.0|              |        false| false|       Debit| Ritu|\n",
      "|2765|Checking BoA Ritu...|              Klarna| 12.66|2023-05-22|         Expense|  Shopping|     Clothes|     -12.66|              |        false| false|       Debit| Ritu|\n",
      "|2764|Checking BoA Ritu...|      Dunkin' Donuts|  15.0|2023-05-22|         Expense|  Shopping|   Household|      -15.0|              |        false| false|       Debit| Ritu|\n",
      "|2763|Checking BoA Ritu...|              Klarna| 17.85|2023-05-22|         Expense|  Shopping|     Clothes|     -17.85|              |        false| false|       Debit| Ritu|\n",
      "|2762|Adv Plus Banking ...|         Hobby Lobby| 21.36|2023-05-22|         Expense|     Other|       Event|     -21.36|Decoration DIY|        false| false|       Debit|Joint|\n",
      "|2761|Adv Plus Banking ...|         Dollar Tree| 32.66|2023-05-22|         Expense|     Other|       Event|     -32.66|Decoration DIY|        false| false|       Debit|Joint|\n",
      "|2760|Checking BoA PA 7462|       Discover Bank| 58.89|2023-05-22|        Expense4|      Bill| Credit Card|     -58.89|              |        false| false|       Debit|   PA|\n",
      "|2759|Checking BoA Ritu...|          Aliexpress| 74.95|2023-05-22|         Expense|     Other|       Event|     -74.95|Decoration DIY|        false| false|       Debit| Ritu|\n",
      "|2758|Adv Plus Banking ...|      The Home Depot| 79.72|2023-05-22|         Expense|  Shopping|   Household|     -79.72|              |        false| false|       Debit|Joint|\n",
      "|2757|Capital One Quick...|             Tj Maxx|  82.0|2023-05-22|         Expense|  Shopping|     Clothes|      -82.0|              |        false| false|      Credit|   PA|\n",
      "|2756|Adv Plus Banking ...|           Robinhood| 100.0|2023-05-22|        Expense3|Investment|     Deposit|     -100.0|              |        false| false|       Debit|Joint|\n",
      "|2755|Capital One Quick...|      The Home Depot|168.94|2023-05-22|         Expense|  Shopping|   Household|    -168.94|              |        false| false|      Credit|   PA|\n",
      "|2754|Checking BoA Ritu...|Pmnt Sent 0520 Re...| 200.0|2023-05-22|         Expense|    People|      Family|     -200.0|              |        false| false|       Debit| Ritu|\n",
      "|2753|Jetblue Barclays ...|         Stop & Shop| 21.06|2023-05-21|         Expense| Groceries|   Groceries|     -21.06|              |        false| false|      Credit|   PA|\n",
      "|2752|Costco Anywhere b...|Stop & Shop Gas S...| 41.48|2023-05-21|         Expense|       Car|         Gas|     -41.48|              |        false| false|      Credit|   PA|\n",
      "|2751|Capital One Quick...|         Dollar Tree| 41.17|2023-05-20|         Expense|     Other|       Event|     -41.17|Decoration DIY|        false| false|      Credit|   PA|\n",
      "|2750|Costco Anywhere b...|Autopay 2xxxxxxxx...|305.65|2023-05-20|         Income4|      Bill| Credit Card|     305.65|              |        false| false|      Credit|   PA|\n",
      "+----+--------------------+--------------------+------+----------+----------------+----------+------------+-----------+--------------+-------------+------+------------+-----+\n",
      "only showing top 20 rows\n",
      "\n"
     ]
    }
   ],
   "source": [
    "#read inputs \n",
    "acc_meta = spark.read.options(inferSchema='True',header='True').csv('./data/other_input/account_metadata.csv')\n",
    "\n",
    "\n",
    "#read master ledger file\n",
    "df = spark.createDataFrame(pd.read_excel('./data/other_input/Master Ledger.xlsx',sheet_name=\"Master Ledger\"))\n",
    "df = df.withColumn(\"ID\",col(\"ID\").cast(IntegerType()))\\\n",
    "        .withColumn(\"Amount\",col(\"Amount\").cast(DoubleType()))\\\n",
    "        .withColumn(\"Subscriptions\",col(\"Subscriptions\").cast(BooleanType()))\\\n",
    "        .withColumn(\"Return\",col(\"Return\").cast(BooleanType()))\\\n",
    "        .withColumn(\"Real Amount\",col(\"Real Amount\").cast(DoubleType()))\n",
    "\n",
    "df = df.withColumn(\"Date\",to_date(col(\"Date\"),\"MM/dd/yyyy\"))\n",
    "df.printSchema()\n",
    "df = df.dropna(how=\"all\",subset= [\"ID\"])\n",
    "df = df.replace('NaN',\"\")\n",
    "df.orderBy(\"ID\", ascending=False).show()"
   ]
  },
  {
   "cell_type": "code",
   "execution_count": 65,
   "metadata": {},
   "outputs": [
    {
     "name": "stdout",
     "output_type": "stream",
     "text": [
      "root\n",
      " |-- Date: date (nullable = true)\n",
      " |-- Account: string (nullable = true)\n",
      " |-- Amount: double (nullable = true)\n",
      " |-- ID: integer (nullable = false)\n",
      " |-- Item: string (nullable = true)\n",
      " |-- Real Amount: double (nullable = true)\n",
      " |-- Account Type: void (nullable = true)\n",
      " |-- Owner: void (nullable = true)\n",
      " |-- Transaction Type: string (nullable = false)\n",
      " |-- Subscriptions: boolean (nullable = false)\n",
      " |-- Return: boolean (nullable = false)\n",
      "\n",
      "+----------+--------------------+------+---+--------------------+-----------+------------+-----+----------------+-------------+------+\n",
      "|      Date|             Account|Amount| ID|                Item|Real Amount|Account Type|Owner|Transaction Type|Subscriptions|Return|\n",
      "+----------+--------------------+------+---+--------------------+-----------+------------+-----+----------------+-------------+------+\n",
      "|2023-05-23|Checking BoA PA 7462|   5.0|  1|               Zelle|        5.0|        null| null|          Income|        false| false|\n",
      "|2023-05-23|Adv Plus Banking ...|305.65|  1|            Citibank|    -305.65|        null| null|         Expense|        false| false|\n",
      "|2023-05-23|Adv Plus Banking ...|  21.3|  1|             Tj Maxx|      -21.3|        null| null|         Expense|        false| false|\n",
      "|2023-05-23|Adv Plus Banking ...| 30.55|  1|         Dollar Tree|     -30.55|        null| null|         Expense|        false| false|\n",
      "|2023-05-23|Adv Plus Banking ...| 41.98|  1|           Marshalls|     -41.98|        null| null|         Expense|        false| false|\n",
      "|2023-05-23|Adv Plus Banking ...|  6.36|  1|              Savers|      -6.36|        null| null|         Expense|        false| false|\n",
      "|2023-05-23|Checking BoA Ritu...|  8.13|  1|              Klarna|      -8.13|        null| null|         Expense|        false| false|\n",
      "|2023-05-23|Checking BoA Ritu...|  5.94|  1|            Michaels|      -5.94|        null| null|         Expense|        false| false|\n",
      "|2023-05-23|Amazon Prime Cred...| 11.76|  1|              Amazon|     -11.76|        null| null|         Expense|        false| false|\n",
      "|2023-05-22|Amazon Prime Cred...| 96.27|  1|              Amazon|     -96.27|        null| null|         Expense|        false| false|\n",
      "|2023-05-22|Checking BoA Ritu...| 74.95|  1|          Aliexpress|     -74.95|        null| null|         Expense|        false| false|\n",
      "|2023-05-22|Checking BoA Ritu...| 200.0|  1|Pmnt Sent 0520 Re...|     -200.0|        null| null|         Expense|        false| false|\n",
      "|2023-05-22|Checking BoA Ritu...|  15.0|  1|      Dunkin' Donuts|      -15.0|        null| null|         Expense|        false| false|\n",
      "|2023-05-22|Checking BoA Ritu...| 17.85|  1|              Klarna|     -17.85|        null| null|         Expense|        false| false|\n",
      "|2023-05-22|Checking BoA Ritu...| 12.66|  1|              Klarna|     -12.66|        null| null|         Expense|        false| false|\n",
      "|2023-05-22|Checking BoA Ritu...|   8.0|  1|      Dunkin' Donuts|       -8.0|        null| null|         Expense|        false| false|\n",
      "|2023-05-22|Checking BoA Ritu...| 200.0|  1|Zelle Payment Fro...|      200.0|        null| null|          Income|        false| false|\n",
      "|2023-05-22|Capital One Quick...|168.94|  1|      The Home Depot|    -168.94|        null| null|         Expense|        false| false|\n",
      "|2023-05-22|Capital One Quick...|  82.0|  1|             Tj Maxx|      -82.0|        null| null|         Expense|        false| false|\n",
      "|2023-05-22|Checking BoA PA 7462| 58.89|  1|       Discover Bank|     -58.89|        null| null|         Expense|        false| false|\n",
      "+----------+--------------------+------+---+--------------------+-----------+------------+-----+----------------+-------------+------+\n",
      "only showing top 20 rows\n",
      "\n"
     ]
    }
   ],
   "source": [
    "#read all csv files exported from Empower\n",
    "path = glob.glob('./data/empower_input/*.csv')\n",
    "df2 = spark.read.options(inferSchema='True',header='True').csv(path)\n",
    "\n",
    "\n",
    "#add more columns to df2\n",
    "df2 = df2.withColumn(\"ID\",lit(1))\\\n",
    ".withColumn(\"Item\",col(\"Description\")).drop(\"Description\")\\\n",
    ".withColumn(\"Real Amount\",col(\"Amount\"))\\\n",
    ".withColumn(\"Amount\",abs(col(\"Amount\")))\\\n",
    ".withColumn(\"Account Type\",lit(None))\\\n",
    ".withColumn(\"Owner\",lit(None))\\\n",
    ".withColumn(\"Transaction Type\",when(col(\"Real Amount\") <0, \"Expense\").otherwise(\"Income\"))\\\n",
    ".drop(\"Category\")\\\n",
    ".withColumn(\"Owner\",lit(None))\\\n",
    ".withColumn(\"Subscriptions\",lit(False))\\\n",
    ".withColumn(\"Return\",lit(False))\\\n",
    ".drop(\"Tags\")\n",
    "\n",
    "df2.printSchema()\n",
    "\n",
    "df2.show()"
   ]
  },
  {
   "cell_type": "code",
   "execution_count": 66,
   "metadata": {},
   "outputs": [
    {
     "name": "stdout",
     "output_type": "stream",
     "text": [
      "+--------------------+--------------+------+----------+----------------+----------+------------+-----------+--------------+-------------+------+------------+-----+\n",
      "|             Account|          Item|Amount|      Date|Transaction Type|Categories|Categories 2|Real Amount|          Note|Subscriptions|Return|Account Type|Owner|\n",
      "+--------------------+--------------+------+----------+----------------+----------+------------+-----------+--------------+-------------+------+------------+-----+\n",
      "|Adv Plus Banking ...|       Tj Maxx|  21.3|2023-05-23|         Expense|          |            |      -21.3|              |        false| false|       Debit|Joint|\n",
      "|Adv Plus Banking ...|      Citibank|305.65|2023-05-23|         Expense|          |            |    -305.65|              |        false| false|       Debit|Joint|\n",
      "|Adv Plus Banking ...|   Dollar Tree| 30.55|2023-05-23|         Expense|          |            |     -30.55|              |        false| false|       Debit|Joint|\n",
      "|Adv Plus Banking ...|     Marshalls| 41.98|2023-05-23|         Expense|          |            |     -41.98|              |        false| false|       Debit|Joint|\n",
      "|Adv Plus Banking ...|        Savers|  6.36|2023-05-23|         Expense|          |            |      -6.36|              |        false| false|       Debit|Joint|\n",
      "|Amazon Prime Cred...|        Amazon| 11.76|2023-05-23|         Expense|          |            |     -11.76|              |        false| false|      Credit| Ritu|\n",
      "|Checking BoA PA 7462|         Zelle|   5.0|2023-05-23|          Income|          |            |        5.0|              |        false| false|       Debit|   PA|\n",
      "|Checking BoA Ritu...|        Klarna|  8.13|2023-05-23|         Expense|          |            |      -8.13|              |        false| false|       Debit| Ritu|\n",
      "|Checking BoA Ritu...|      Michaels|  5.94|2023-05-23|         Expense|          |            |      -5.94|              |        false| false|       Debit| Ritu|\n",
      "|Adv Plus Banking ...|The Home Depot| 79.72|2023-05-22|         Expense|  Shopping|   Household|     -79.72|              |        false| false|       Debit|Joint|\n",
      "|Adv Plus Banking ...|The Home Depot|126.44|2023-05-22|          Income|  Shopping|   Household|     126.44|              |        false| false|       Debit|Joint|\n",
      "|Adv Plus Banking ...|   Hobby Lobby| 21.36|2023-05-22|         Expense|     Other|       Event|     -21.36|Decoration DIY|        false| false|       Debit|Joint|\n",
      "|Amazon Prime Cred...|        Amazon| 96.27|2023-05-22|         Expense|          |            |     -96.27|              |        false| false|      Credit| Ritu|\n",
      "|Checking BoA Ritu...|Dunkin' Donuts|  15.0|2023-05-22|         Expense|  Shopping|   Household|      -15.0|              |        false| false|       Debit| Ritu|\n",
      "|Checking BoA Ritu...|Dunkin' Donuts|   8.0|2023-05-22|         Expense|    Dining|        Food|       -8.0|              |        false| false|       Debit| Ritu|\n",
      "|Adv Plus Banking ...|   Dollar Tree| 32.66|2023-05-22|         Expense|     Other|       Event|     -32.66|Decoration DIY|        false| false|       Debit|Joint|\n",
      "|Checking BoA Ritu...|        Klarna| 17.85|2023-05-22|         Expense|  Shopping|     Clothes|     -17.85|              |        false| false|       Debit| Ritu|\n",
      "|Capital One Quick...|The Home Depot|168.94|2023-05-22|         Expense|  Shopping|   Household|    -168.94|              |        false| false|      Credit|   PA|\n",
      "|Checking BoA Ritu...|        Klarna| 12.66|2023-05-22|         Expense|  Shopping|     Clothes|     -12.66|              |        false| false|       Debit| Ritu|\n",
      "|Checking BoA PA 7462| Discover Bank| 58.89|2023-05-22|        Expense4|      Bill| Credit Card|     -58.89|              |        false| false|       Debit|   PA|\n",
      "+--------------------+--------------+------+----------+----------------+----------+------------+-----------+--------------+-------------+------+------------+-----+\n",
      "only showing top 20 rows\n",
      "\n"
     ]
    }
   ],
   "source": [
    "# union master ledger with empower, then \n",
    "max_date = df.select(max(\"Date\")).first()[0]\n",
    "df3 = df.unionByName(df2.filter(col(\"Date\")> lit(max_date)-5), allowMissingColumns=True)\n",
    "df3 = df3.drop(\"ID\",\"Account Type\",\"Owner\").join(acc_meta, on = 'Account').na.fill(\"\")\n",
    "\n",
    "df3 = df3.dropDuplicates(['Date','Account','Item','Real Amount','Note'])\n",
    "\n",
    "window = Window.partitionBy(['Date','Account','Item','Real Amount']).orderBy(col(\"Note\").desc())\n",
    "df3 = df3.withColumn(\"row_number\",row_number().over(window))\\\n",
    "    .withColumn('dup',when((col('row_number')>1) & (col('Note') == \"\"),True).otherwise(False))\\\n",
    "    .filter(col('dup') == False)\\\n",
    "    .drop(\"row_number\",\"dup\")\\\n",
    "    .orderBy(\"Date\")\n",
    "\n",
    "df3.orderBy(\"Date\", ascending=False).show()\n"
   ]
  },
  {
   "cell_type": "code",
   "execution_count": 67,
   "metadata": {},
   "outputs": [],
   "source": [
    "df3.toPandas().to_csv(\"./data/output/out.csv\", index_label=\"ID\")"
   ]
  }
 ],
 "metadata": {
  "kernelspec": {
   "display_name": "Python 3",
   "language": "python",
   "name": "python3"
  },
  "language_info": {
   "codemirror_mode": {
    "name": "ipython",
    "version": 3
   },
   "file_extension": ".py",
   "mimetype": "text/x-python",
   "name": "python",
   "nbconvert_exporter": "python",
   "pygments_lexer": "ipython3",
   "version": "3.11.3"
  },
  "orig_nbformat": 4
 },
 "nbformat": 4,
 "nbformat_minor": 2
}
