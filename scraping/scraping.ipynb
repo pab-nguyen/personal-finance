{
 "cells": [
  {
   "cell_type": "code",
   "execution_count": 1,
   "metadata": {},
   "outputs": [],
   "source": [
    "from selenium import webdriver\n",
    "from selenium.common.exceptions import StaleElementReferenceException\n",
    "from selenium.webdriver.chrome.options import Options\n",
    "from selenium.webdriver.common.keys import Keys\n",
    "from selenium.webdriver.common.by import By\n",
    "from selenium.webdriver.chrome.service import Service\n",
    "\n",
    "from fake_useragent import UserAgent\n",
    "\n",
    "import time\n",
    "import json\n",
    "import os\n"
   ]
  },
  {
   "cell_type": "code",
   "execution_count": 34,
   "metadata": {},
   "outputs": [],
   "source": [
    "# create user agent at random\n",
    "ua = UserAgent()\n",
    "userAgent = ua.random\n",
    "\n",
    "# add options\n",
    "opts = Options()\n",
    "# user_agent = 'Mozilla/5.0 (X11; Linux x86_64) AppleWebKit/537.36 (KHTML, like Gecko) Chrome/60.0.3112.50\n",
    "# Safari/537.36'\n",
    "opts.add_argument(\"--disable-notifications\")\n",
    "opts.add_argument(\"--user-data-dir=C:/Users/Phan/Downloads/Github/personal-finance/scraping/UserData/\")\n",
    "opts.add_argument('--profile-directory=Profile')\n",
    "prefs={\"download.default_directory\" : download}\n",
    "opts.add_experimental_option(\"prefs\", prefs)\n",
    "\n",
    "# opts.add_argument(\"--headless\")\n",
    "\n",
    "# open driver\n",
    "driver = webdriver.Chrome(service=Service(\"./chromedriver.exe\"),options=opts)\n",
    "driver.get(\"https://home.personalcapital.com/page/login/goHome\")\n",
    "driver.implicitly_wait(10)\n"
   ]
  },
  {
   "cell_type": "code",
   "execution_count": 35,
   "metadata": {},
   "outputs": [],
   "source": [
    "driver.get(\"https://home.personalcapital.com/page/login/goHome\")\n",
    "\n",
    "#read json file for credentials\n",
    "f= open('credentials.json')\n",
    "data = json.load(f)\n",
    "username = data['username']\n",
    "password = data['password']\n",
    "\n",
    "try:  \n",
    "    input = driver.find_element(By.NAME,\"passwd\")\n",
    "    input.send_keys(password)\n",
    "    input.send_keys(Keys.RETURN)\n",
    "except:\n",
    "    pass\n",
    "\n"
   ]
  },
  {
   "cell_type": "code",
   "execution_count": 29,
   "metadata": {},
   "outputs": [],
   "source": [
    "driver.get(\"https://home.personalcapital.com/page/login/app#/all-transactions\")\n",
    "time.sleep(5)\n",
    "driver.find_element(By.XPATH,\"//button[@class='pc-btn pc-btn--tiny qa-export-csv-btn']\").click()\n",
    "\n"
   ]
  }
 ],
 "metadata": {
  "kernelspec": {
   "display_name": "Python 3",
   "language": "python",
   "name": "python3"
  },
  "language_info": {
   "codemirror_mode": {
    "name": "ipython",
    "version": 3
   },
   "file_extension": ".py",
   "mimetype": "text/x-python",
   "name": "python",
   "nbconvert_exporter": "python",
   "pygments_lexer": "ipython3",
   "version": "3.11.3"
  },
  "orig_nbformat": 4
 },
 "nbformat": 4,
 "nbformat_minor": 2
}
