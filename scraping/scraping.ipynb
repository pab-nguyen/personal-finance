{
 "cells": [
  {
   "cell_type": "code",
   "execution_count": 1,
   "metadata": {},
   "outputs": [],
   "source": [
    "from selenium import webdriver\n",
    "from selenium.common.exceptions import StaleElementReferenceException\n",
    "from selenium.webdriver.chrome.options import Options\n",
    "from selenium.webdriver.common.keys import Keys\n",
    "from selenium.webdriver.common.by import By\n",
    "from selenium.webdriver.chrome.service import Service\n",
    "from webdriver_manager.chrome import ChromeDriverManager\n",
    "\n",
    "import time\n",
    "import json\n",
    "import os\n"
   ]
  },
  {
   "cell_type": "code",
   "execution_count": 2,
   "metadata": {},
   "outputs": [
    {
     "data": {
      "text/plain": [
       "\"r'c:/Users/Phan/Downloads/Github/personal-finance/data/empower_input'\""
      ]
     },
     "execution_count": 2,
     "metadata": {},
     "output_type": "execute_result"
    }
   ],
   "source": [
    "download = \"r'\" + os.path.dirname(os.getcwd()) + \"/data/empower_input'\"\n",
    "download = download.replace(\"\\\\\",\"/\")\n",
    "download"
   ]
  },
  {
   "cell_type": "code",
   "execution_count": 3,
   "metadata": {},
   "outputs": [
    {
     "name": "stderr",
     "output_type": "stream",
     "text": [
      "[WDM] - Downloading: 100%|██████████| 6.30M/6.30M [00:02<00:00, 2.47MB/s]\n"
     ]
    }
   ],
   "source": [
    "# add options\n",
    "opts = webdriver.ChromeOptions()\n",
    "opts.add_argument(\"--user-data-dir=C:/Users/Phan/Downloads/Github/personal-finance/scraping/UserData/\")\n",
    "opts.add_experimental_option(\"prefs\", {\"download.default_directory\" : \"C:\\\\Users\\Phan\\Downloads\\Github\\personal-finance\\data\\empower_input\\\\\",\n",
    "\"savefile.default_directory\" : \"C:\\\\Users\\Phan\\Downloads\\Github\\personal-finance\\data\\empower_input\\\\\", \n",
    "\"download.prompt_for_download\": False,\n",
    "\"download.directory_upgrade\": True})\n",
    "\n",
    "\n",
    "# opts.add_argument(\"--headless\")\n",
    "\n",
    "# open driver\n",
    "driver = webdriver.Chrome(service=Service(executable_path=ChromeDriverManager().install()),options=opts)\n",
    "\n",
    "driver.get(\"https://home.personalcapital.com/page/login/goHome\")\n",
    "driver.implicitly_wait(10)\n"
   ]
  },
  {
   "cell_type": "code",
   "execution_count": 7,
   "metadata": {},
   "outputs": [],
   "source": [
    "driver.get(\"https://home.personalcapital.com/page/login/goHome\")\n",
    "time.sleep(5)\n",
    "\n",
    "#read json file for credentials\n",
    "f= open('credentials.json')\n",
    "data = json.load(f)\n",
    "username = data['username']\n",
    "password = data['password']\n",
    "\n",
    "try:  \n",
    "    input = driver.find_element(By.NAME,\"passwd\")\n",
    "    input.send_keys(password)\n",
    "    input.send_keys(Keys.RETURN)\n",
    "except:\n",
    "    pass\n",
    "time.sleep(2)"
   ]
  },
  {
   "cell_type": "code",
   "execution_count": 6,
   "metadata": {},
   "outputs": [
    {
     "ename": "NoSuchElementException",
     "evalue": "Message: no such element: Unable to locate element: {\"method\":\"xpath\",\"selector\":\"//button[@class='pc-btn pc-btn--tiny qa-export-csv-btn']\"}\n  (Session info: chrome=114.0.5735.110)\nStacktrace:\nBacktrace:\n\tGetHandleVerifier [0x0094A813+48355]\n\t(No symbol) [0x008DC4B1]\n\t(No symbol) [0x007E5358]\n\t(No symbol) [0x008109A5]\n\t(No symbol) [0x00810B3B]\n\t(No symbol) [0x0083E232]\n\t(No symbol) [0x0082A784]\n\t(No symbol) [0x0083C922]\n\t(No symbol) [0x0082A536]\n\t(No symbol) [0x008082DC]\n\t(No symbol) [0x008093DD]\n\tGetHandleVerifier [0x00BAAABD+2539405]\n\tGetHandleVerifier [0x00BEA78F+2800735]\n\tGetHandleVerifier [0x00BE456C+2775612]\n\tGetHandleVerifier [0x009D51E0+616112]\n\t(No symbol) [0x008E5F8C]\n\t(No symbol) [0x008E2328]\n\t(No symbol) [0x008E240B]\n\t(No symbol) [0x008D4FF7]\n\tBaseThreadInitThunk [0x767F00C9+25]\n\tRtlGetAppContainerNamedObjectPath [0x775D7B4E+286]\n\tRtlGetAppContainerNamedObjectPath [0x775D7B1E+238]\n",
     "output_type": "error",
     "traceback": [
      "\u001b[1;31m---------------------------------------------------------------------------\u001b[0m",
      "\u001b[1;31mNoSuchElementException\u001b[0m                    Traceback (most recent call last)",
      "Cell \u001b[1;32mIn[6], line 5\u001b[0m\n\u001b[0;32m      2\u001b[0m time\u001b[39m.\u001b[39msleep(\u001b[39m10\u001b[39m)\n\u001b[0;32m      3\u001b[0m driver\u001b[39m.\u001b[39mimplicitly_wait(\u001b[39m10\u001b[39m)\n\u001b[1;32m----> 5\u001b[0m driver\u001b[39m.\u001b[39;49mfind_element(By\u001b[39m.\u001b[39;49mXPATH,\u001b[39m\"\u001b[39;49m\u001b[39m//button[@class=\u001b[39;49m\u001b[39m'\u001b[39;49m\u001b[39mpc-btn pc-btn--tiny qa-export-csv-btn\u001b[39;49m\u001b[39m'\u001b[39;49m\u001b[39m]\u001b[39;49m\u001b[39m\"\u001b[39;49m)\u001b[39m.\u001b[39mclick()\n\u001b[0;32m      6\u001b[0m time\u001b[39m.\u001b[39msleep(\u001b[39m5\u001b[39m)\n",
      "File \u001b[1;32m~\\AppData\\Local\\Packages\\PythonSoftwareFoundation.Python.3.11_qbz5n2kfra8p0\\LocalCache\\local-packages\\Python311\\site-packages\\selenium\\webdriver\\remote\\webdriver.py:831\u001b[0m, in \u001b[0;36mWebDriver.find_element\u001b[1;34m(self, by, value)\u001b[0m\n\u001b[0;32m    828\u001b[0m     by \u001b[39m=\u001b[39m By\u001b[39m.\u001b[39mCSS_SELECTOR\n\u001b[0;32m    829\u001b[0m     value \u001b[39m=\u001b[39m \u001b[39mf\u001b[39m\u001b[39m'\u001b[39m\u001b[39m[name=\u001b[39m\u001b[39m\"\u001b[39m\u001b[39m{\u001b[39;00mvalue\u001b[39m}\u001b[39;00m\u001b[39m\"\u001b[39m\u001b[39m]\u001b[39m\u001b[39m'\u001b[39m\n\u001b[1;32m--> 831\u001b[0m \u001b[39mreturn\u001b[39;00m \u001b[39mself\u001b[39;49m\u001b[39m.\u001b[39;49mexecute(Command\u001b[39m.\u001b[39;49mFIND_ELEMENT, {\u001b[39m\"\u001b[39;49m\u001b[39musing\u001b[39;49m\u001b[39m\"\u001b[39;49m: by, \u001b[39m\"\u001b[39;49m\u001b[39mvalue\u001b[39;49m\u001b[39m\"\u001b[39;49m: value})[\u001b[39m\"\u001b[39m\u001b[39mvalue\u001b[39m\u001b[39m\"\u001b[39m]\n",
      "File \u001b[1;32m~\\AppData\\Local\\Packages\\PythonSoftwareFoundation.Python.3.11_qbz5n2kfra8p0\\LocalCache\\local-packages\\Python311\\site-packages\\selenium\\webdriver\\remote\\webdriver.py:440\u001b[0m, in \u001b[0;36mWebDriver.execute\u001b[1;34m(self, driver_command, params)\u001b[0m\n\u001b[0;32m    438\u001b[0m response \u001b[39m=\u001b[39m \u001b[39mself\u001b[39m\u001b[39m.\u001b[39mcommand_executor\u001b[39m.\u001b[39mexecute(driver_command, params)\n\u001b[0;32m    439\u001b[0m \u001b[39mif\u001b[39;00m response:\n\u001b[1;32m--> 440\u001b[0m     \u001b[39mself\u001b[39;49m\u001b[39m.\u001b[39;49merror_handler\u001b[39m.\u001b[39;49mcheck_response(response)\n\u001b[0;32m    441\u001b[0m     response[\u001b[39m\"\u001b[39m\u001b[39mvalue\u001b[39m\u001b[39m\"\u001b[39m] \u001b[39m=\u001b[39m \u001b[39mself\u001b[39m\u001b[39m.\u001b[39m_unwrap_value(response\u001b[39m.\u001b[39mget(\u001b[39m\"\u001b[39m\u001b[39mvalue\u001b[39m\u001b[39m\"\u001b[39m, \u001b[39mNone\u001b[39;00m))\n\u001b[0;32m    442\u001b[0m     \u001b[39mreturn\u001b[39;00m response\n",
      "File \u001b[1;32m~\\AppData\\Local\\Packages\\PythonSoftwareFoundation.Python.3.11_qbz5n2kfra8p0\\LocalCache\\local-packages\\Python311\\site-packages\\selenium\\webdriver\\remote\\errorhandler.py:245\u001b[0m, in \u001b[0;36mErrorHandler.check_response\u001b[1;34m(self, response)\u001b[0m\n\u001b[0;32m    243\u001b[0m         alert_text \u001b[39m=\u001b[39m value[\u001b[39m\"\u001b[39m\u001b[39malert\u001b[39m\u001b[39m\"\u001b[39m]\u001b[39m.\u001b[39mget(\u001b[39m\"\u001b[39m\u001b[39mtext\u001b[39m\u001b[39m\"\u001b[39m)\n\u001b[0;32m    244\u001b[0m     \u001b[39mraise\u001b[39;00m exception_class(message, screen, stacktrace, alert_text)  \u001b[39m# type: ignore[call-arg]  # mypy is not smart enough here\u001b[39;00m\n\u001b[1;32m--> 245\u001b[0m \u001b[39mraise\u001b[39;00m exception_class(message, screen, stacktrace)\n",
      "\u001b[1;31mNoSuchElementException\u001b[0m: Message: no such element: Unable to locate element: {\"method\":\"xpath\",\"selector\":\"//button[@class='pc-btn pc-btn--tiny qa-export-csv-btn']\"}\n  (Session info: chrome=114.0.5735.110)\nStacktrace:\nBacktrace:\n\tGetHandleVerifier [0x0094A813+48355]\n\t(No symbol) [0x008DC4B1]\n\t(No symbol) [0x007E5358]\n\t(No symbol) [0x008109A5]\n\t(No symbol) [0x00810B3B]\n\t(No symbol) [0x0083E232]\n\t(No symbol) [0x0082A784]\n\t(No symbol) [0x0083C922]\n\t(No symbol) [0x0082A536]\n\t(No symbol) [0x008082DC]\n\t(No symbol) [0x008093DD]\n\tGetHandleVerifier [0x00BAAABD+2539405]\n\tGetHandleVerifier [0x00BEA78F+2800735]\n\tGetHandleVerifier [0x00BE456C+2775612]\n\tGetHandleVerifier [0x009D51E0+616112]\n\t(No symbol) [0x008E5F8C]\n\t(No symbol) [0x008E2328]\n\t(No symbol) [0x008E240B]\n\t(No symbol) [0x008D4FF7]\n\tBaseThreadInitThunk [0x767F00C9+25]\n\tRtlGetAppContainerNamedObjectPath [0x775D7B4E+286]\n\tRtlGetAppContainerNamedObjectPath [0x775D7B1E+238]\n"
     ]
    }
   ],
   "source": [
    "driver.get(\"https://home.personalcapital.com/page/login/app#/all-transactions\")\n",
    "time.sleep(10)\n",
    "driver.implicitly_wait(10)\n",
    "\n",
    "driver.find_element(By.XPATH,\"//button[@class='pc-btn pc-btn--tiny qa-export-csv-btn']\").click()\n",
    "time.sleep(5)\n"
   ]
  },
  {
   "cell_type": "code",
   "execution_count": null,
   "metadata": {},
   "outputs": [],
   "source": [
    "driver.quit()"
   ]
  }
 ],
 "metadata": {
  "kernelspec": {
   "display_name": "Python 3",
   "language": "python",
   "name": "python3"
  },
  "language_info": {
   "codemirror_mode": {
    "name": "ipython",
    "version": 3
   },
   "file_extension": ".py",
   "mimetype": "text/x-python",
   "name": "python",
   "nbconvert_exporter": "python",
   "pygments_lexer": "ipython3",
   "version": "3.11.3"
  },
  "orig_nbformat": 4
 },
 "nbformat": 4,
 "nbformat_minor": 2
}
